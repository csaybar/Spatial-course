{
 "cells": [
  {
   "cell_type": "markdown",
   "metadata": {
    "toc": true
   },
   "source": [
    "<h1>Table of Contents<span class=\"tocSkip\"></span></h1>\n",
    "<div class=\"toc\"><ul class=\"toc-item\"><li><span><a href=\"#Parte-01:\" data-toc-modified-id=\"Parte-01:-1\"><span class=\"toc-item-num\">1&nbsp;&nbsp;</span>Parte 01:</a></span><ul class=\"toc-item\"><li><span><a href=\"#1)-Python-como-Calculadora\" data-toc-modified-id=\"1)-Python-como-Calculadora-1.1\"><span class=\"toc-item-num\">1.1&nbsp;&nbsp;</span>1) Python como Calculadora</a></span></li></ul></li><li><span><a href=\"#Tipos-de-Datos\" data-toc-modified-id=\"Tipos-de-Datos-2\"><span class=\"toc-item-num\">2&nbsp;&nbsp;</span>Tipos de Datos</a></span><ul class=\"toc-item\"><li><span><a href=\"#1)-Númericos\" data-toc-modified-id=\"1)-Númericos-2.1\"><span class=\"toc-item-num\">2.1&nbsp;&nbsp;</span>1) Númericos</a></span></li><li><span><a href=\"#2)-Strings\" data-toc-modified-id=\"2)-Strings-2.2\"><span class=\"toc-item-num\">2.2&nbsp;&nbsp;</span>2) Strings</a></span></li><li><span><a href=\"#3)-Logicos\" data-toc-modified-id=\"3)-Logicos-2.3\"><span class=\"toc-item-num\">2.3&nbsp;&nbsp;</span>3) Logicos</a></span></li><li><span><a href=\"#4)-None\" data-toc-modified-id=\"4)-None-2.4\"><span class=\"toc-item-num\">2.4&nbsp;&nbsp;</span>4) None</a></span></li></ul></li><li><span><a href=\"#Asignación-de-Variables\" data-toc-modified-id=\"Asignación-de-Variables-3\"><span class=\"toc-item-num\">3&nbsp;&nbsp;</span>Asignación de Variables</a></span></li></ul></div>"
   ]
  },
  {
   "cell_type": "markdown",
   "metadata": {},
   "source": [
    "# Bienvenidos a Introducción a Python3!!\n",
    "\n",
    "## Parte 01:\n",
    "\n",
    "En esta lectura, usted aprenderá lo esencial sobre tipos de datos.\n",
    "\n",
    "Veremos los siguientes tópicos:\n",
    "\n",
    "    1.) Python como calculadora.\n",
    "    2.) Tipos de datos.\n",
    "    3.) Asignaciones en python3."
   ]
  },
  {
   "cell_type": "markdown",
   "metadata": {},
   "source": [
    "### 1) Python como Calculadora\n",
    "\n"
   ]
  },
  {
   "cell_type": "code",
   "execution_count": 3,
   "metadata": {},
   "outputs": [
    {
     "data": {
      "text/plain": [
       "3"
      ]
     },
     "execution_count": 3,
     "metadata": {},
     "output_type": "execute_result"
    }
   ],
   "source": [
    "# Sumar\n",
    "2+1"
   ]
  },
  {
   "cell_type": "code",
   "execution_count": 2,
   "metadata": {},
   "outputs": [
    {
     "data": {
      "text/plain": [
       "1"
      ]
     },
     "execution_count": 2,
     "metadata": {},
     "output_type": "execute_result"
    }
   ],
   "source": [
    "# Restar\n",
    "2-1"
   ]
  },
  {
   "cell_type": "code",
   "execution_count": 3,
   "metadata": {},
   "outputs": [
    {
     "data": {
      "text/plain": [
       "4"
      ]
     },
     "execution_count": 3,
     "metadata": {},
     "output_type": "execute_result"
    }
   ],
   "source": [
    "# Multiplicación\n",
    "2*2"
   ]
  },
  {
   "cell_type": "code",
   "execution_count": 4,
   "metadata": {},
   "outputs": [
    {
     "data": {
      "text/plain": [
       "1.5"
      ]
     },
     "execution_count": 4,
     "metadata": {},
     "output_type": "execute_result"
    }
   ],
   "source": [
    "# División\n",
    "3/2"
   ]
  },
  {
   "cell_type": "code",
   "execution_count": 5,
   "metadata": {},
   "outputs": [
    {
     "data": {
      "text/plain": [
       "1"
      ]
     },
     "execution_count": 5,
     "metadata": {},
     "output_type": "execute_result"
    }
   ],
   "source": [
    "# División Entera\n",
    "7//4"
   ]
  },
  {
   "cell_type": "code",
   "execution_count": 6,
   "metadata": {},
   "outputs": [
    {
     "data": {
      "text/plain": [
       "3"
      ]
     },
     "execution_count": 6,
     "metadata": {},
     "output_type": "execute_result"
    }
   ],
   "source": [
    "# Modulo\n",
    "7%4"
   ]
  },
  {
   "cell_type": "code",
   "execution_count": 7,
   "metadata": {},
   "outputs": [
    {
     "data": {
      "text/plain": [
       "156"
      ]
     },
     "execution_count": 7,
     "metadata": {},
     "output_type": "execute_result"
    }
   ],
   "source": [
    "# Aritmetica compleja\n",
    "(2+10) * (10+3)"
   ]
  },
  {
   "cell_type": "markdown",
   "metadata": {},
   "source": [
    "## Tipos de Datos\n",
    "\n",
    "Python3 presentan varios tipos de datos, siendo estos:\n",
    "\n",
    "    1) Númericos\n",
    "    2) Cadenas\n",
    "    3) Lógicos\n",
    "    4) None\n",
    "\n",
    "\n",
    "### 1) Númericos\n",
    "\n",
    "Los dos mas importantes son <span style=\"color:blue\">**integers**</span> y <span style=\"color:blue\">**floating point**</span>.\n",
    "\n",
    "Los _integers_ son numeros enteros positivos o negativos. Por ejemplo: 2 y -2 son numeros _integers_.\n",
    "\n",
    "Por su parte los números _Floating point_ son aquellos que presentan decimales. Por ejemplo: -22.3 y -10.455 son numeros _floating point_.\n",
    "\n",
    "### 2) Strings\n",
    "Los strings son usados en python para almanecar palabras, para definir un _string_ usted necesita usar comillas dobles o simple. Por ejemplo: **'hellow word'**\n",
    "\n",
    "\n",
    "### 3) Logicos\n",
    "El tipo booleano es una especie de tipo numérico que es utilizado para evaluar expresiones lógicas. Pueden \n",
    "\n",
    "    . Si la expresión lógica es cierta, el resultado es True (con mayúscula al principio).\n",
    "    . Si la expresión lógica NO es cierta, el resultado es False (con mayúscula al principio).\n",
    "\n",
    "### 4) None\n",
    "Es una palabra **reservada** en Python3 utilizada para representar el vacio\n"
   ]
  },
  {
   "cell_type": "code",
   "execution_count": 8,
   "metadata": {},
   "outputs": [
    {
     "name": "stdout",
     "output_type": "stream",
     "text": [
      "<class 'int'>\n",
      "<class 'float'>\n"
     ]
    }
   ],
   "source": [
    "# Ejemplo de tipo de dato entero y flotante\n",
    "print(type(1))\n",
    "print(type(1.0))"
   ]
  },
  {
   "cell_type": "code",
   "execution_count": 9,
   "metadata": {},
   "outputs": [
    {
     "data": {
      "text/plain": [
       "'Esto es un ejemplo de string'"
      ]
     },
     "execution_count": 9,
     "metadata": {},
     "output_type": "execute_result"
    }
   ],
   "source": [
    "# Ejemplo de caracteres\n",
    "'Esto es un ejemplo de string'"
   ]
  },
  {
   "cell_type": "code",
   "execution_count": 10,
   "metadata": {},
   "outputs": [
    {
     "data": {
      "text/plain": [
       "str"
      ]
     },
     "execution_count": 10,
     "metadata": {},
     "output_type": "execute_result"
    }
   ],
   "source": [
    "type('Esto es un ejemplo de string')"
   ]
  },
  {
   "cell_type": "code",
   "execution_count": 11,
   "metadata": {},
   "outputs": [
    {
     "data": {
      "text/plain": [
       "'HolaMundo'"
      ]
     },
     "execution_count": 11,
     "metadata": {},
     "output_type": "execute_result"
    }
   ],
   "source": [
    "# Concatenar caracteres\n",
    "'Hola' + 'Mundo'"
   ]
  },
  {
   "cell_type": "code",
   "execution_count": 12,
   "metadata": {},
   "outputs": [
    {
     "name": "stdout",
     "output_type": "stream",
     "text": [
      "Hello World 1\n"
     ]
    }
   ],
   "source": [
    "# Imprimir un string\n",
    "print('Hello World 1')"
   ]
  },
  {
   "cell_type": "code",
   "execution_count": 13,
   "metadata": {},
   "outputs": [
    {
     "data": {
      "text/plain": [
       "5"
      ]
     },
     "execution_count": 13,
     "metadata": {},
     "output_type": "execute_result"
    }
   ],
   "source": [
    "# Longitud de un string\n",
    "len('Hello')\n"
   ]
  },
  {
   "cell_type": "code",
   "execution_count": 14,
   "metadata": {},
   "outputs": [
    {
     "data": {
      "text/plain": [
       "'o'"
      ]
     },
     "execution_count": 14,
     "metadata": {},
     "output_type": "execute_result"
    }
   ],
   "source": [
    "#Obtener una posición especifica\n",
    "'Hello'[4]"
   ]
  },
  {
   "cell_type": "code",
   "execution_count": 15,
   "metadata": {},
   "outputs": [
    {
     "name": "stdout",
     "output_type": "stream",
     "text": [
      "llo\n",
      "He\n"
     ]
    }
   ],
   "source": [
    "print('Hello'[2:])\n",
    "print('Hello'[:2])"
   ]
  },
  {
   "cell_type": "code",
   "execution_count": 16,
   "metadata": {},
   "outputs": [
    {
     "data": {
      "text/plain": [
       "'Hello'"
      ]
     },
     "execution_count": 16,
     "metadata": {},
     "output_type": "execute_result"
    }
   ],
   "source": [
    "#Obtener todo\n",
    "'Hello'[:]"
   ]
  },
  {
   "cell_type": "code",
   "execution_count": 17,
   "metadata": {},
   "outputs": [
    {
     "name": "stdout",
     "output_type": "stream",
     "text": [
      "o\n",
      "Hell\n"
     ]
    }
   ],
   "source": [
    "# Mas ejemplo\n",
    "print('Hello'[-1])\n",
    "print('Hello'[:-1])"
   ]
  },
  {
   "cell_type": "code",
   "execution_count": 18,
   "metadata": {},
   "outputs": [
    {
     "name": "stdout",
     "output_type": "stream",
     "text": [
      "Hello\n",
      "Hlo\n",
      "olleH\n"
     ]
    }
   ],
   "source": [
    "# Doble punto\n",
    "print('Hello'[::1])\n",
    "print('Hello'[::2])\n",
    "print('Hello'[::-1])\n"
   ]
  },
  {
   "cell_type": "code",
   "execution_count": 19,
   "metadata": {},
   "outputs": [
    {
     "name": "stdout",
     "output_type": "stream",
     "text": [
      "True\n",
      "False\n"
     ]
    }
   ],
   "source": [
    "print(True)\n",
    "print(False)"
   ]
  },
  {
   "cell_type": "markdown",
   "metadata": {},
   "source": [
    "## Asignación de Variables\n",
    "\n",
    "Ahora que hemos aprendido sobre tipo de datos en Python3, veamos cómo podemos asignar nombres y crear variables.\n",
    "Usamos un solo signo igual para asignar etiquetas a las variables. Veamos algunos ejemplos de cómo podemos hacer esto."
   ]
  },
  {
   "cell_type": "code",
   "execution_count": 20,
   "metadata": {},
   "outputs": [],
   "source": [
    "# - Creamos un objeto llamado \"a\" al cual se le asigna el valor 5.\n",
    "# - Creamos un objeto llamado \"b\" al cual se le asigna la palabra 'hola'.\n",
    "a = 5\n",
    "b = 'hola'"
   ]
  },
  {
   "cell_type": "code",
   "execution_count": 21,
   "metadata": {},
   "outputs": [
    {
     "name": "stdout",
     "output_type": "stream",
     "text": [
      "10\n",
      "holahola\n"
     ]
    }
   ],
   "source": [
    "# Suma de objetos\n",
    "print(a + a)\n",
    "print(b + b)"
   ]
  },
  {
   "cell_type": "code",
   "execution_count": 22,
   "metadata": {},
   "outputs": [],
   "source": [
    "# Reasignación\n",
    "a = 10\n",
    "b = 'Hi'"
   ]
  },
  {
   "cell_type": "code",
   "execution_count": 23,
   "metadata": {},
   "outputs": [
    {
     "name": "stdout",
     "output_type": "stream",
     "text": [
      "20\n",
      "HiHi\n"
     ]
    }
   ],
   "source": [
    "print(a + a)\n",
    "print(b + b)"
   ]
  },
  {
   "cell_type": "code",
   "execution_count": 24,
   "metadata": {},
   "outputs": [
    {
     "name": "stdout",
     "output_type": "stream",
     "text": [
      "20\n"
     ]
    }
   ],
   "source": [
    "# Usa a para redefinir a\n",
    "a = a + a\n",
    "print(a)"
   ]
  },
  {
   "cell_type": "code",
   "execution_count": 25,
   "metadata": {},
   "outputs": [],
   "source": [
    "# Primer ejercicio ¿Cual sera el valor de taxes?\n",
    "my_income = 100\n",
    "tax_rate = 0.1\n",
    "\n",
    "my_taxes = my_income*tax_rate"
   ]
  },
  {
   "cell_type": "code",
   "execution_count": 4,
   "metadata": {},
   "outputs": [],
   "source": [
    "#----- Fin de la parte 01 -----#"
   ]
  },
  {
   "cell_type": "code",
   "execution_count": null,
   "metadata": {},
   "outputs": [],
   "source": []
  }
 ],
 "metadata": {
  "kernelspec": {
   "display_name": "Python 3",
   "language": "python",
   "name": "python3"
  },
  "language_info": {
   "codemirror_mode": {
    "name": "ipython",
    "version": 3
   },
   "file_extension": ".py",
   "mimetype": "text/x-python",
   "name": "python",
   "nbconvert_exporter": "python",
   "pygments_lexer": "ipython3",
   "version": "3.5.3"
  },
  "toc": {
   "base_numbering": 1,
   "nav_menu": {},
   "number_sections": true,
   "sideBar": true,
   "skip_h1_title": true,
   "title_cell": "Table of Contents",
   "title_sidebar": "Contents",
   "toc_cell": true,
   "toc_position": {},
   "toc_section_display": true,
   "toc_window_display": true
  }
 },
 "nbformat": 4,
 "nbformat_minor": 2
}
