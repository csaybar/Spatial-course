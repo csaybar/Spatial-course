{
 "cells": [
  {
   "cell_type": "markdown",
   "metadata": {
    "toc": true
   },
   "source": [
    "<h1>Table of Contents<span class=\"tocSkip\"></span></h1>\n",
    "<div class=\"toc\"><ul class=\"toc-item\"><li><span><a href=\"#Parte-01:\" data-toc-modified-id=\"Parte-01:-1\"><span class=\"toc-item-num\">1&nbsp;&nbsp;</span>Parte 01:</a></span><ul class=\"toc-item\"><li><span><a href=\"#1.1-Simple-Features\" data-toc-modified-id=\"1.1-Simple-Features-1.1\"><span class=\"toc-item-num\">1.1&nbsp;&nbsp;</span>1.1 Simple Features</a></span><ul class=\"toc-item\"><li><span><a href=\"#Entidad-simple-(Simple-Entity):\" data-toc-modified-id=\"Entidad-simple-(Simple-Entity):-1.1.1\"><span class=\"toc-item-num\">1.1.1&nbsp;&nbsp;</span>Entidad simple (Simple Entity):</a></span></li><li><span><a href=\"#Homogeneous-entity-collections:\" data-toc-modified-id=\"Homogeneous-entity-collections:-1.1.2\"><span class=\"toc-item-num\">1.1.2&nbsp;&nbsp;</span>Homogeneous entity collections:</a></span></li></ul></li><li><span><a href=\"#1.2-Operaciones-Geoespaciales\" data-toc-modified-id=\"1.2-Operaciones-Geoespaciales-1.2\"><span class=\"toc-item-num\">1.2&nbsp;&nbsp;</span>1.2 Operaciones Geoespaciales</a></span></li></ul></li></ul></div>"
   ]
  },
  {
   "cell_type": "markdown",
   "metadata": {},
   "source": [
    "# Bienvenidos a Introducción a Spatial-Python3!!\n",
    "\n",
    "## Parte 01:\n",
    "\n",
    "En esta lectura, usted aprenderá lo esencial sobre como python maneja los datos espaciales.\n",
    "\n",
    "Veremos los siguientes tópicos:\n",
    "\n",
    "    1) Simple Features\n",
    "    2) Operaciones Vectoriales "
   ]
  },
  {
   "cell_type": "markdown",
   "metadata": {},
   "source": [
    "### 1.1 Simple Features\n",
    "\n",
    "El **Open Geospatial Consortium (OGC)** ha definido y estandarizado un conjunto de objetos geométricos (ademas de funciones y operadores) ampliamente adoptados en software geoespaciales comerciales y de código abierto. Estos SF representan objetos geométricos planos bidimensionales, así como otros tipos más exóticos que no abordaremos aquí.\n",
    "\n",
    "En este curso, nos enfocaremos en los tipos más básicos y comunes. Estos se componen de tres tipos geométricos básicos de una sola entidad y sus colecciones homogéneas asociadas de entidades múltiples:\n",
    "\n",
    "#### Entidad simple (Simple Entity):\n",
    "    1) Point\n",
    "    2) Linestring or Line\n",
    "    3) Polygon\n",
    "#### Homogeneous entity collections:\n",
    "    1) Multi-Point\n",
    "    2) Multi-Line or Multi-LineString\n",
    "    3) Multi-Polygon\n",
    "\n",
    "Un ejemplo de los tipos mas basicos de entidades se puede apreciar en la siguiente figura:\n",
    "\n",
    "<img height=\"100\" src = \"util/sp1.png\">\n",
    "\n",
    "Ahora solo necesitamos aprender un concepto mas! .... Un **feature** es cualquier entidad espacial (como las que mencionamos anterioremente) sumado a sus atributos (por ejemplo, nombre, categorías, valor de alguna propiedad, como la densidad de población). Un **feature collection** es una lista o colección de features. La mayoría de los conjuntos de datos vectoriales GIS del mundo real son **feature collection**.\n",
    "\n",
    "### 1.2 Operaciones Geoespaciales\n",
    "\n",
    "Se han definido varias relaciones y operaciones en objetos geométricos individuales o entre objetos. Estos incluyen buffer, disolver, *convex hull*, intersección, unión, etc. La ejecución de estas operaciones son esenciales y basicas en cualquier software GIS. En este curso no tocaremos todas las operaciones de forma exhaustiva, solo presentaremos ejemplos para ilustrar las capacidades de unos de los paquetes mas potentes de Python3 para el analisis geoespacial (**GeoPandas**).\n",
    "\n",
    "<img height=\"100\" src = \"util/sp2.png\">\n",
    "\n",
    "Como ya debe saberlo: la Tierra no es plana, ni es una esfera, ni siquiera un elipsoide perfecto. Si bien la latitud y la longitud pueden representar con precisión una ubicación en la superficie de la Tierra, realizar cálculos de área y distancia en un elipsoide (o esferoide) puede ser bastante desafiante. Por esta razón, en lugar de trabajar en este sistema de referencia coordinado (CRS) no proyectado o geodésico, generalmente se transforman objetos espaciales y coordenadas en un CRS proyectado (proyectando la superficie curva en un plano cartesiano), particularmente cuando se trabaja a escalas que no son globales (continental, regional o altamente local). Existen muchos tipos de proyecciones, tratando de representar con precisión el área, la distancia, la orientación o alguna combinación de los tres; la mayoría están sintonizados para ser más precisos dentro de un área específica de la Tierra.\n",
    "\n"
   ]
  }
 ],
 "metadata": {
  "kernelspec": {
   "display_name": "Python 3",
   "language": "python",
   "name": "python3"
  },
  "toc": {
   "base_numbering": 1,
   "nav_menu": {},
   "number_sections": true,
   "sideBar": true,
   "skip_h1_title": true,
   "title_cell": "Table of Contents",
   "title_sidebar": "Contents",
   "toc_cell": true,
   "toc_position": {},
   "toc_section_display": true,
   "toc_window_display": true
  }
 },
 "nbformat": 4,
 "nbformat_minor": 2
}
