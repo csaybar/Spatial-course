{
 "cells": [
  {
   "cell_type": "markdown",
   "metadata": {
    "toc": true
   },
   "source": [
    "<h1>Table of Contents<span class=\"tocSkip\"></span></h1>\n",
    "<div class=\"toc\"><ul class=\"toc-item\"><li><span><a href=\"#Parte-01:\" data-toc-modified-id=\"Parte-01:-1\"><span class=\"toc-item-num\">1&nbsp;&nbsp;</span>Parte 01:</a></span><ul class=\"toc-item\"><li><span><a href=\"#1)-Listas\" data-toc-modified-id=\"1)-Listas-1.1\"><span class=\"toc-item-num\">1.1&nbsp;&nbsp;</span>1) Listas</a></span><ul class=\"toc-item\"><li><span><a href=\"#1.1)-indexing-y-slicing\" data-toc-modified-id=\"1.1)-indexing-y-slicing-1.1.1\"><span class=\"toc-item-num\">1.1.1&nbsp;&nbsp;</span>1.1) <em>indexing y slicing</em></a></span></li><li><span><a href=\"#1.2)-Metodos-Básicos-en-una-lista\" data-toc-modified-id=\"1.2)-Metodos-Básicos-en-una-lista-1.1.2\"><span class=\"toc-item-num\">1.1.2&nbsp;&nbsp;</span>1.2) Metodos Básicos en una lista</a></span></li><li><span><a href=\"#1.3)-Listas-Anidadas\" data-toc-modified-id=\"1.3)-Listas-Anidadas-1.1.3\"><span class=\"toc-item-num\">1.1.3&nbsp;&nbsp;</span>1.3) Listas Anidadas</a></span></li></ul></li><li><span><a href=\"#2)-Diccionarios\" data-toc-modified-id=\"2)-Diccionarios-1.2\"><span class=\"toc-item-num\">1.2&nbsp;&nbsp;</span>2) Diccionarios</a></span><ul class=\"toc-item\"><li><span><a href=\"#1.2)-Metodos-Básicos-en-un-diccionario\" data-toc-modified-id=\"1.2)-Metodos-Básicos-en-un-diccionario-1.2.1\"><span class=\"toc-item-num\">1.2.1&nbsp;&nbsp;</span>1.2) Metodos Básicos en un diccionario</a></span></li><li><span><a href=\"#1.3)-Diccionarios-Anidados\" data-toc-modified-id=\"1.3)-Diccionarios-Anidados-1.2.2\"><span class=\"toc-item-num\">1.2.2&nbsp;&nbsp;</span>1.3) Diccionarios Anidados</a></span></li></ul></li><li><span><a href=\"#3)-Tuplas\" data-toc-modified-id=\"3)-Tuplas-1.3\"><span class=\"toc-item-num\">1.3&nbsp;&nbsp;</span>3) Tuplas</a></span></li><li><span><a href=\"#Metodos-en-una-tupla\" data-toc-modified-id=\"Metodos-en-una-tupla-1.4\"><span class=\"toc-item-num\">1.4&nbsp;&nbsp;</span>Metodos en una tupla</a></span><ul class=\"toc-item\"><li><span><a href=\"#Te-quedo-claro-que-es-la-inmutabilidad?\" data-toc-modified-id=\"Te-quedo-claro-que-es-la-inmutabilidad?-1.4.1\"><span class=\"toc-item-num\">1.4.1&nbsp;&nbsp;</span>Te quedo claro que es la inmutabilidad?</a></span></li></ul></li><li><span><a href=\"#Con-esto-acaba-la-primera-parte,-es-tiempo-de-una-evaluación!!\" data-toc-modified-id=\"Con-esto-acaba-la-primera-parte,-es-tiempo-de-una-evaluación!!-1.5\"><span class=\"toc-item-num\">1.5&nbsp;&nbsp;</span>Con esto acaba la primera parte, es tiempo de una evaluación!!</a></span></li></ul></li></ul></div>"
   ]
  },
  {
   "cell_type": "markdown",
   "metadata": {},
   "source": [
    "# Bienvenidos a Introducción a Python3!!\n",
    "\n",
    "## Parte 01:\n",
    "\n",
    "En esta lectura, usted aprenderá lo esencial acerca de las estructuras de datos mas utilizadas.\n",
    "\n",
    "Veremos los siguientes tópicos:\n",
    "\n",
    "    1) listas.\n",
    "    2) diccionarios.\n",
    "    3) tuplas."
   ]
  },
  {
   "cell_type": "markdown",
   "metadata": {},
   "source": [
    "### 1) Listas\n",
    "\n",
    "Las listas son el concepto mas básico de estructura de datos en python. A diferencia de los _string_, las **listas** pueden cambiar de elementos, es decir, son **mutables**.\n",
    "\n",
    "Para crear listas en python debemos usar [] y comas separando cada elemento.\n"
   ]
  },
  {
   "cell_type": "code",
   "execution_count": 1,
   "metadata": {},
   "outputs": [],
   "source": [
    "# Asignación de una lista\n",
    "my_list = [1,2,3]"
   ]
  },
  {
   "cell_type": "code",
   "execution_count": 2,
   "metadata": {},
   "outputs": [],
   "source": [
    "# No solamente podemos crear una lista con elementos del mismo tipo de datos.\n",
    "my_list = ['A string',23,100.232,'o']"
   ]
  },
  {
   "cell_type": "code",
   "execution_count": 3,
   "metadata": {},
   "outputs": [
    {
     "data": {
      "text/plain": [
       "4"
      ]
     },
     "execution_count": 3,
     "metadata": {},
     "output_type": "execute_result"
    }
   ],
   "source": [
    "# ¿Como saber la longitud de una lista?\n",
    "len(my_list)"
   ]
  },
  {
   "cell_type": "markdown",
   "metadata": {},
   "source": [
    "#### 1.1) _indexing y slicing_\n",
    "_indexing and slicing_ funcionan de igual manera que con los _strings_. Hagamos unos ejercicios para refrescar lo aprendido.!\n"
   ]
  },
  {
   "cell_type": "code",
   "execution_count": 4,
   "metadata": {},
   "outputs": [],
   "source": [
    "my_list = ['one','two','three',4,5]"
   ]
  },
  {
   "cell_type": "code",
   "execution_count": 5,
   "metadata": {},
   "outputs": [
    {
     "data": {
      "text/plain": [
       "'one'"
      ]
     },
     "execution_count": 5,
     "metadata": {},
     "output_type": "execute_result"
    }
   ],
   "source": [
    "# Obtengamos el primer elemento (Recurda que en Python3 la identación empieza en cero!!)\n",
    "my_list[0]"
   ]
  },
  {
   "cell_type": "code",
   "execution_count": 6,
   "metadata": {},
   "outputs": [
    {
     "data": {
      "text/plain": [
       "['two', 'three', 4, 5]"
      ]
     },
     "execution_count": 6,
     "metadata": {},
     "output_type": "execute_result"
    }
   ],
   "source": [
    "# Obten el segundo elemento hasta el ultimo\n",
    "my_list[1:]"
   ]
  },
  {
   "cell_type": "code",
   "execution_count": 7,
   "metadata": {},
   "outputs": [
    {
     "data": {
      "text/plain": [
       "['one', 'two', 'three']"
      ]
     },
     "execution_count": 7,
     "metadata": {},
     "output_type": "execute_result"
    }
   ],
   "source": [
    "# Obten del tercer elemento al primero\n",
    "my_list[:3]"
   ]
  },
  {
   "cell_type": "code",
   "execution_count": 8,
   "metadata": {},
   "outputs": [
    {
     "data": {
      "text/plain": [
       "['one', 'two', 'three', 4, 5, 'hola']"
      ]
     },
     "execution_count": 8,
     "metadata": {},
     "output_type": "execute_result"
    }
   ],
   "source": [
    "#Agregemos un elemento a una lista!\n",
    "my_list + ['hola']"
   ]
  },
  {
   "cell_type": "code",
   "execution_count": 9,
   "metadata": {},
   "outputs": [
    {
     "data": {
      "text/plain": [
       "['one', 'two', 'three', 4, 5]"
      ]
     },
     "execution_count": 9,
     "metadata": {},
     "output_type": "execute_result"
    }
   ],
   "source": [
    "#Los cambios no fueron guardados.\n",
    "my_list"
   ]
  },
  {
   "cell_type": "code",
   "execution_count": 10,
   "metadata": {},
   "outputs": [
    {
     "name": "stdout",
     "output_type": "stream",
     "text": [
      "['one', 'two', 'three', 4, 5, 'hola']\n"
     ]
    }
   ],
   "source": [
    "#Guardando los cambios!\n",
    "my_list = my_list + ['hola']\n",
    "print(my_list)"
   ]
  },
  {
   "cell_type": "code",
   "execution_count": 11,
   "metadata": {},
   "outputs": [
    {
     "data": {
      "text/plain": [
       "['one', 'two', 'three', 4, 5, 'hola', 'one', 'two', 'three', 4, 5, 'hola']"
      ]
     },
     "execution_count": 11,
     "metadata": {},
     "output_type": "execute_result"
    }
   ],
   "source": [
    "# Duplicar mi lista\n",
    "my_list * 2"
   ]
  },
  {
   "cell_type": "markdown",
   "metadata": {},
   "source": [
    "#### 1.2) Metodos Básicos en una lista\n",
    "\n",
    "Si está familiarizado con otros lenguaje de programación (eg.C), usted podría pensar que los mismo conceptos referente a las listas son aplicables en python3. Sin embargo, las listas en python3 tienden a ser más flexibles en comparación a \n",
    "otros lenguajes, sobretodo porque aqui **Las listas no tienen un tamaño fijo!!**. Dicho esto,exploremos cuales son los métodos más importantes en las listas:"
   ]
  },
  {
   "cell_type": "code",
   "execution_count": 12,
   "metadata": {},
   "outputs": [],
   "source": [
    "# Lista nueva\n",
    "list1 = [1,2,3]"
   ]
  },
  {
   "cell_type": "markdown",
   "metadata": {},
   "source": [
    "Usamos __*append*__ para agregar un elemento permanentemente"
   ]
  },
  {
   "cell_type": "code",
   "execution_count": 13,
   "metadata": {},
   "outputs": [],
   "source": [
    "# Append\n",
    "list1.append('append me!')"
   ]
  },
  {
   "cell_type": "code",
   "execution_count": 14,
   "metadata": {},
   "outputs": [
    {
     "name": "stdout",
     "output_type": "stream",
     "text": [
      "[1, 2, 3, 'append me!']\n"
     ]
    }
   ],
   "source": [
    "print(list1)"
   ]
  },
  {
   "cell_type": "markdown",
   "metadata": {},
   "source": [
    "Usamos __*pop*__ para eliminar un elemento especifico si ningun numero es especificado, se eliminará el ultimo elemento"
   ]
  },
  {
   "cell_type": "code",
   "execution_count": 15,
   "metadata": {},
   "outputs": [
    {
     "name": "stdout",
     "output_type": "stream",
     "text": [
      "[2, 3]\n"
     ]
    }
   ],
   "source": [
    "list1.pop(0)\n",
    "list1.pop()\n",
    "print(list1)"
   ]
  },
  {
   "cell_type": "code",
   "execution_count": 16,
   "metadata": {},
   "outputs": [],
   "source": [
    "new_list = ['a','e','x','b','c']"
   ]
  },
  {
   "cell_type": "markdown",
   "metadata": {},
   "source": [
    "Usamos __*reverse*__ para revertir el orden de los elementos"
   ]
  },
  {
   "cell_type": "code",
   "execution_count": 17,
   "metadata": {},
   "outputs": [
    {
     "name": "stdout",
     "output_type": "stream",
     "text": [
      "['c', 'b', 'x', 'e', 'a']\n"
     ]
    }
   ],
   "source": [
    "new_list.reverse()\n",
    "print(new_list)"
   ]
  },
  {
   "cell_type": "markdown",
   "metadata": {},
   "source": [
    "Usamos __*sort*__ para ordenar los elementos."
   ]
  },
  {
   "cell_type": "code",
   "execution_count": 18,
   "metadata": {},
   "outputs": [
    {
     "name": "stdout",
     "output_type": "stream",
     "text": [
      "['a', 'b', 'c', 'e', 'x']\n"
     ]
    }
   ],
   "source": [
    "new_list.sort()\n",
    "print(new_list)"
   ]
  },
  {
   "cell_type": "markdown",
   "metadata": {},
   "source": [
    "#### 1.3) Listas Anidadas\n",
    "Las listas no solo pueden contener numeros y string, tambien pueden contener otras listas!. Veamos algunos ejemplos."
   ]
  },
  {
   "cell_type": "code",
   "execution_count": 19,
   "metadata": {},
   "outputs": [],
   "source": [
    "# Creemos algunas listas de ejemplo\n",
    "lst_1=[1,2,3]\n",
    "lst_2=[4,5,6]\n",
    "lst_3=[7,8,9]\n",
    "\n",
    "# Creemos una lista de lista\n",
    "matrix = [lst_1,lst_2,lst_3]"
   ]
  },
  {
   "cell_type": "code",
   "execution_count": 20,
   "metadata": {},
   "outputs": [
    {
     "data": {
      "text/plain": [
       "9"
      ]
     },
     "execution_count": 20,
     "metadata": {},
     "output_type": "execute_result"
    }
   ],
   "source": [
    "matrix[2][2]"
   ]
  },
  {
   "cell_type": "markdown",
   "metadata": {},
   "source": [
    "### 2) Diccionarios\n",
    "\n",
    "Ya hemos aprendido acerca de listas, ahora aprenderemos sobre *mappings* en python3. Nuevamente si estas familiarizado con otros lenguajes de programación, piensa en los diccionarios como tablas hash. Los diccionarios al igual que las listas son estructuras **mutables** , solamente que cambios [] por {}.\n",
    "\n",
    "Empezos a construir diccionarios en python3!!"
   ]
  },
  {
   "cell_type": "code",
   "execution_count": 21,
   "metadata": {},
   "outputs": [],
   "source": [
    "# Diccionarios son una estructura dual {KEY:VALUE}\n",
    "my_dict = {'key1':'value1','key2':'value2'}"
   ]
  },
  {
   "cell_type": "code",
   "execution_count": 22,
   "metadata": {},
   "outputs": [
    {
     "data": {
      "text/plain": [
       "'value2'"
      ]
     },
     "execution_count": 22,
     "metadata": {},
     "output_type": "execute_result"
    }
   ],
   "source": [
    "#Al igual que los strings y listas podemos llamar a los elementos mediante []\n",
    "my_dict['key2']"
   ]
  },
  {
   "cell_type": "markdown",
   "metadata": {},
   "source": [
    "Es importante tener en cuenta que los diccionarios son muy flexibles en los tipos de datos que pueden contener. Por ejemplo:"
   ]
  },
  {
   "cell_type": "code",
   "execution_count": 23,
   "metadata": {},
   "outputs": [],
   "source": [
    "\n",
    "my_dict = {'key1':123,'key2':[12,23,33],'key3':['item0','item1','item2']}"
   ]
  },
  {
   "cell_type": "code",
   "execution_count": 24,
   "metadata": {},
   "outputs": [
    {
     "data": {
      "text/plain": [
       "['item0', 'item1', 'item2']"
      ]
     },
     "execution_count": 24,
     "metadata": {},
     "output_type": "execute_result"
    }
   ],
   "source": [
    "# Llamemos a otro item del diccionario\n",
    "my_dict['key3']"
   ]
  },
  {
   "cell_type": "code",
   "execution_count": 25,
   "metadata": {},
   "outputs": [
    {
     "data": {
      "text/plain": [
       "'ITEM0'"
      ]
     },
     "execution_count": 25,
     "metadata": {},
     "output_type": "execute_result"
    }
   ],
   "source": [
    "# De: diccionario --> lista --> string\n",
    "my_dict['key3'][0].upper()"
   ]
  },
  {
   "cell_type": "markdown",
   "metadata": {},
   "source": [
    "¿Recuerdas que dijimos que los diccionarios eran estructuras __mutables__?"
   ]
  },
  {
   "cell_type": "code",
   "execution_count": 26,
   "metadata": {},
   "outputs": [
    {
     "name": "stdout",
     "output_type": "stream",
     "text": [
      "{'key1': 123, 'key3': ['item0', 'item1', 'item2'], 'key2': [12, 23, 33]}\n",
      "{'key1': 113, 'key3': ['item0', 'item1', 'item2'], 'key2': [12, 23, 33]}\n"
     ]
    }
   ],
   "source": [
    "print(my_dict)\n",
    "my_dict['key1'] = my_dict['key1'] - 10\n",
    "print(my_dict)"
   ]
  },
  {
   "cell_type": "markdown",
   "metadata": {},
   "source": [
    "#### 1.2) Metodos Básicos en un diccionario\n",
    "Hay algunos métodos que podemos invocar en un diccionario. Veamos una breve introducción a algunos de ellos:"
   ]
  },
  {
   "cell_type": "code",
   "execution_count": 27,
   "metadata": {},
   "outputs": [],
   "source": [
    "d = {'key1':1,'key2':2,'key3':3}"
   ]
  },
  {
   "cell_type": "code",
   "execution_count": 28,
   "metadata": {},
   "outputs": [
    {
     "data": {
      "text/plain": [
       "dict_keys(['key1', 'key3', 'key2'])"
      ]
     },
     "execution_count": 28,
     "metadata": {},
     "output_type": "execute_result"
    }
   ],
   "source": [
    "# retorna los key del diccionario\n",
    "d.keys()"
   ]
  },
  {
   "cell_type": "code",
   "execution_count": 29,
   "metadata": {},
   "outputs": [
    {
     "data": {
      "text/plain": [
       "dict_values([1, 3, 2])"
      ]
     },
     "execution_count": 29,
     "metadata": {},
     "output_type": "execute_result"
    }
   ],
   "source": [
    "# retorna los values del diccionario\n",
    "d.values()"
   ]
  },
  {
   "cell_type": "code",
   "execution_count": 30,
   "metadata": {},
   "outputs": [
    {
     "data": {
      "text/plain": [
       "dict_items([('key1', 1), ('key3', 3), ('key2', 2)])"
      ]
     },
     "execution_count": 30,
     "metadata": {},
     "output_type": "execute_result"
    }
   ],
   "source": [
    "# Retorna todos los elementos como una tupla (lo veremos en breve!!)\n",
    "d.items()"
   ]
  },
  {
   "cell_type": "markdown",
   "metadata": {},
   "source": [
    "#### 1.3) Diccionarios Anidados\n",
    "Es de esperar que comiences a ver cuán poderoso es Python con su flexibilidad de anidar objetos y métodos de invocación sobre ellos. Veamos como anidar diccionarios!"
   ]
  },
  {
   "cell_type": "code",
   "execution_count": 31,
   "metadata": {},
   "outputs": [],
   "source": [
    "d = {'key1':{'key2':{'key3':'value1'}}}"
   ]
  },
  {
   "cell_type": "code",
   "execution_count": 32,
   "metadata": {},
   "outputs": [
    {
     "data": {
      "text/plain": [
       "'value1'"
      ]
     },
     "execution_count": 32,
     "metadata": {},
     "output_type": "execute_result"
    }
   ],
   "source": [
    "# Como extraemos el valor de value1\n",
    "d['key1']['key2']['key3']"
   ]
  },
  {
   "cell_type": "markdown",
   "metadata": {},
   "source": [
    "### 3) Tuplas\n",
    "Las tuplas son muy similares a las listas, sin embargo, a diferencia las listas las tuplas son estructuras **inmutables**, es decir, no pueden ser cambiadas. \n",
    "\n",
    "Usted se estará preguntando, \"¿Por qué molestarse en usar tuplas cuando tienen menos métodos disponibles?\" Para ser honesto, las tuplas no se utilizan con tanta frecuencia como las listas en la programación, pero se usan cuando la inmutabilidad es necesaria. Si en su programa está pasando por un objeto y necesita asegurarse de que no se modifique, una tupla se convierte en su solución. Proporciona una fuente conveniente de integridad de datos.\n",
    "\n",
    "A diferencia de las listas las tuplas se definen con los parentesis (). Veamos algunos ejemplos."
   ]
  },
  {
   "cell_type": "code",
   "execution_count": 33,
   "metadata": {},
   "outputs": [],
   "source": [
    "# Creando una tupla\n",
    "t = (1,2,3)"
   ]
  },
  {
   "cell_type": "code",
   "execution_count": 34,
   "metadata": {},
   "outputs": [
    {
     "data": {
      "text/plain": [
       "3"
      ]
     },
     "execution_count": 34,
     "metadata": {},
     "output_type": "execute_result"
    }
   ],
   "source": [
    "# ¿Cual es su longitud?\n",
    "len(t)"
   ]
  },
  {
   "cell_type": "code",
   "execution_count": 35,
   "metadata": {},
   "outputs": [
    {
     "data": {
      "text/plain": [
       "('one', 2)"
      ]
     },
     "execution_count": 35,
     "metadata": {},
     "output_type": "execute_result"
    }
   ],
   "source": [
    "# Tambien puede almacenar varios tipos de datos (heterogenea)\n",
    "t = ('one',2)\n",
    "t"
   ]
  },
  {
   "cell_type": "code",
   "execution_count": 36,
   "metadata": {},
   "outputs": [
    {
     "name": "stdout",
     "output_type": "stream",
     "text": [
      "one\n",
      "2\n"
     ]
    }
   ],
   "source": [
    "#slicing and indexing igual a una lista\n",
    "print(t[0])\n",
    "print(t[-1])"
   ]
  },
  {
   "cell_type": "markdown",
   "metadata": {},
   "source": [
    "### Metodos en una tupla\n",
    "\n",
    "\n",
    "Las tuplas solo tienen dos metodos. Veamoslo!"
   ]
  },
  {
   "cell_type": "code",
   "execution_count": 37,
   "metadata": {},
   "outputs": [
    {
     "data": {
      "text/plain": [
       "0"
      ]
     },
     "execution_count": 37,
     "metadata": {},
     "output_type": "execute_result"
    }
   ],
   "source": [
    "# .index Cual es el indice de este elemento?\n",
    "t.index('one')"
   ]
  },
  {
   "cell_type": "code",
   "execution_count": 38,
   "metadata": {},
   "outputs": [
    {
     "data": {
      "text/plain": [
       "1"
      ]
     },
     "execution_count": 38,
     "metadata": {},
     "output_type": "execute_result"
    }
   ],
   "source": [
    "#.count cuente el numero de veces que aparece un elemento.\n",
    "t.count('one')"
   ]
  },
  {
   "cell_type": "markdown",
   "metadata": {},
   "source": [
    "#### Te quedo claro que es la inmutabilidad?\n",
    "Veamos algunos ejemplos claros de que es la inmutabilidad."
   ]
  },
  {
   "cell_type": "code",
   "execution_count": 39,
   "metadata": {},
   "outputs": [
    {
     "ename": "TypeError",
     "evalue": "'tuple' object does not support item assignment",
     "output_type": "error",
     "traceback": [
      "\u001b[0;31m---------------------------------------------------------------------------\u001b[0m",
      "\u001b[0;31mTypeError\u001b[0m                                 Traceback (most recent call last)",
      "\u001b[0;32m<ipython-input-39-22cff0bfe9e2>\u001b[0m in \u001b[0;36m<module>\u001b[0;34m()\u001b[0m\n\u001b[1;32m      1\u001b[0m \u001b[0;31m# Error !!\u001b[0m\u001b[0;34m\u001b[0m\u001b[0;34m\u001b[0m\u001b[0m\n\u001b[0;32m----> 2\u001b[0;31m \u001b[0mt\u001b[0m\u001b[0;34m[\u001b[0m\u001b[0;36m0\u001b[0m\u001b[0;34m]\u001b[0m\u001b[0;34m=\u001b[0m \u001b[0;34m'change'\u001b[0m\u001b[0;34m\u001b[0m\u001b[0m\n\u001b[0m",
      "\u001b[0;31mTypeError\u001b[0m: 'tuple' object does not support item assignment"
     ]
    }
   ],
   "source": [
    "# Error !!\n",
    "t[0]= 'change'"
   ]
  },
  {
   "cell_type": "code",
   "execution_count": null,
   "metadata": {},
   "outputs": [],
   "source": [
    "# Error!!\n",
    "t.append('nope')"
   ]
  },
  {
   "cell_type": "markdown",
   "metadata": {},
   "source": [
    "### Con esto acaba la primera parte, es tiempo de una evaluación!!"
   ]
  }
 ],
 "metadata": {
  "kernelspec": {
   "display_name": "Python 3",
   "language": "python",
   "name": "python3"
  },
  "language_info": {
   "codemirror_mode": {
    "name": "ipython",
    "version": 3
   },
   "file_extension": ".py",
   "mimetype": "text/x-python",
   "name": "python",
   "nbconvert_exporter": "python",
   "pygments_lexer": "ipython3",
   "version": "3.5.3"
  },
  "toc": {
   "base_numbering": 1,
   "nav_menu": {},
   "number_sections": true,
   "sideBar": true,
   "skip_h1_title": true,
   "title_cell": "Table of Contents",
   "title_sidebar": "Contents",
   "toc_cell": true,
   "toc_position": {},
   "toc_section_display": true,
   "toc_window_display": true
  }
 },
 "nbformat": 4,
 "nbformat_minor": 2
}
