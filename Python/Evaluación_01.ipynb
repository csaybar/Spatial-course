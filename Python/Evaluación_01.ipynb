{
 "cells": [
  {
   "cell_type": "markdown",
   "metadata": {
    "toc": true
   },
   "source": [
    "<h1>Table of Contents<span class=\"tocSkip\"></span></h1>\n",
    "<div class=\"toc\"><ul class=\"toc-item\"><li><span><a href=\"#Prueba-de-Tipo-de-Datos-y-Estructuras-de-Datos\" data-toc-modified-id=\"Prueba-de-Tipo-de-Datos-y-Estructuras-de-Datos-1\"><span class=\"toc-item-num\">1&nbsp;&nbsp;</span>Prueba de Tipo de Datos y Estructuras de Datos</a></span><ul class=\"toc-item\"><li><span><a href=\"#Pruebe-usted-mismo-si-aprendió-lo-más-basico-de-python3\" data-toc-modified-id=\"Pruebe-usted-mismo-si-aprendió-lo-más-basico-de-python3-1.1\"><span class=\"toc-item-num\">1.1&nbsp;&nbsp;</span>Pruebe usted mismo si aprendió lo más basico de python3</a></span></li><li><span><a href=\"#Python-como-calculadora\" data-toc-modified-id=\"Python-como-calculadora-1.2\"><span class=\"toc-item-num\">1.2&nbsp;&nbsp;</span>Python como calculadora</a></span></li><li><span><a href=\"#Strings\" data-toc-modified-id=\"Strings-1.3\"><span class=\"toc-item-num\">1.3&nbsp;&nbsp;</span>Strings</a></span></li><li><span><a href=\"#Listas\" data-toc-modified-id=\"Listas-1.4\"><span class=\"toc-item-num\">1.4&nbsp;&nbsp;</span>Listas</a></span></li><li><span><a href=\"#Diccionarios\" data-toc-modified-id=\"Diccionarios-1.5\"><span class=\"toc-item-num\">1.5&nbsp;&nbsp;</span>Diccionarios</a></span></li></ul></li></ul></div>"
   ]
  },
  {
   "cell_type": "markdown",
   "metadata": {},
   "source": [
    "## Prueba de Tipo de Datos y Estructuras de Datos\n",
    "### Pruebe usted mismo si aprendió lo más basico de python3\n",
    "\n",
    "** Responda las siguientes preguntas **"
   ]
  },
  {
   "cell_type": "markdown",
   "metadata": {},
   "source": [
    "### Python como calculadora\n",
    "\n",
    "1. ¿Cual es resto de la siguiente operación?"
   ]
  },
  {
   "cell_type": "code",
   "execution_count": 18,
   "metadata": {},
   "outputs": [
    {
     "data": {
      "text/latex": [
       "\\begin{eqnarray}\n",
       "\\frac{2^3+10/5}{15}\n",
       "\\end{eqnarray}"
      ],
      "text/plain": [
       "<IPython.core.display.Latex object>"
      ]
     },
     "metadata": {},
     "output_type": "display_data"
    }
   ],
   "source": [
    "%%latex\n",
    "\\begin{eqnarray}\n",
    "\\frac{2^3+10/5}{15}\n",
    "\\end{eqnarray}\n"
   ]
  },
  {
   "cell_type": "code",
   "execution_count": 20,
   "metadata": {},
   "outputs": [
    {
     "data": {
      "text/plain": [
       "10"
      ]
     },
     "execution_count": 20,
     "metadata": {},
     "output_type": "execute_result"
    }
   ],
   "source": [
    "((2**3) + 2)%15"
   ]
  },
  {
   "cell_type": "markdown",
   "metadata": {},
   "source": [
    "### Strings\n",
    "2. Revertir la palabra 'Hello world'."
   ]
  },
  {
   "cell_type": "code",
   "execution_count": null,
   "metadata": {},
   "outputs": [],
   "source": []
  },
  {
   "cell_type": "markdown",
   "metadata": {},
   "source": [
    "### Listas\n",
    " 3. Cree la siguiente lista [0,0,0] de 2 formas distintas."
   ]
  },
  {
   "cell_type": "code",
   "execution_count": 22,
   "metadata": {},
   "outputs": [],
   "source": [
    "# Primera forma\n"
   ]
  },
  {
   "cell_type": "code",
   "execution_count": 24,
   "metadata": {},
   "outputs": [],
   "source": [
    "# Segunda forma\n"
   ]
  },
  {
   "cell_type": "markdown",
   "metadata": {},
   "source": [
    "4. Cambie la palabra 'hello' por 'goodbye'\n"
   ]
  },
  {
   "cell_type": "code",
   "execution_count": 26,
   "metadata": {},
   "outputs": [],
   "source": [
    "list3 = [1,2,[3,4,'hello']]"
   ]
  },
  {
   "cell_type": "markdown",
   "metadata": {},
   "source": [
    "### Diccionarios\n",
    "5. Obtenga la palabra 'hello' de los siguiente ejemplos"
   ]
  },
  {
   "cell_type": "code",
   "execution_count": 27,
   "metadata": {},
   "outputs": [],
   "source": [
    "d1 = {'simple_key':'hello'}"
   ]
  },
  {
   "cell_type": "code",
   "execution_count": null,
   "metadata": {},
   "outputs": [],
   "source": [
    "d2 = {'k1':{'k2':'hello'}}"
   ]
  }
 ],
 "metadata": {
  "kernelspec": {
   "display_name": "Python 3",
   "language": "python",
   "name": "python3"
  },
  "toc": {
   "base_numbering": 1,
   "nav_menu": {},
   "number_sections": true,
   "sideBar": true,
   "skip_h1_title": true,
   "title_cell": "Table of Contents",
   "title_sidebar": "Contents",
   "toc_cell": true,
   "toc_position": {},
   "toc_section_display": true,
   "toc_window_display": true
  }
 },
 "nbformat": 4,
 "nbformat_minor": 2
}
