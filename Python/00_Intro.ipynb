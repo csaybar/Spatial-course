{
 "cells": [
  {
   "cell_type": "markdown",
   "metadata": {
    "toc": true
   },
   "source": [
    "<h1>Table of Contents<span class=\"tocSkip\"></span></h1>\n",
    "<div class=\"toc\"><ul class=\"toc-item\"><li><span><a href=\"#Bienvenidos-a-Introducción-a-Python3!!\" data-toc-modified-id=\"Bienvenidos-a-Introducción-a-Python3!!-1\"><span class=\"toc-item-num\">1&nbsp;&nbsp;</span>Bienvenidos a Introducción a Python3!!</a></span></li><li><span><a href=\"#Porque-usar-python?\" data-toc-modified-id=\"Porque-usar-python?-2\"><span class=\"toc-item-num\">2&nbsp;&nbsp;</span>Porque usar python?</a></span><ul class=\"toc-item\"><li><span><a href=\"#Es-fácil-de-aprender,-fácil-de-leer-y-potente-para-desarrollar\" data-toc-modified-id=\"Es-fácil-de-aprender,-fácil-de-leer-y-potente-para-desarrollar-2.1\"><span class=\"toc-item-num\">2.1&nbsp;&nbsp;</span>Es fácil de aprender, fácil de leer y potente para desarrollar</a></span></li><li><span><a href=\"#Es-libre-y-de-código-abierto.\" data-toc-modified-id=\"Es-libre-y-de-código-abierto.-2.2\"><span class=\"toc-item-num\">2.2&nbsp;&nbsp;</span>Es libre y de código abierto.</a></span></li><li><span><a href=\"#Es-multiplataforma.\" data-toc-modified-id=\"Es-multiplataforma.-2.3\"><span class=\"toc-item-num\">2.3&nbsp;&nbsp;</span>Es multiplataforma.</a></span></li><li><span><a href=\"#Es-un-lenguaje-de-propósito-general.\" data-toc-modified-id=\"Es-un-lenguaje-de-propósito-general.-2.4\"><span class=\"toc-item-num\">2.4&nbsp;&nbsp;</span>Es un lenguaje de propósito general.</a></span></li></ul></li><li><span><a href=\"#Desventajas:\" data-toc-modified-id=\"Desventajas:-3\"><span class=\"toc-item-num\">3&nbsp;&nbsp;</span>Desventajas:</a></span><ul class=\"toc-item\"><li><span><a href=\"#Python-no-dispone-de-buena-documentación\" data-toc-modified-id=\"Python-no-dispone-de-buena-documentación-3.1\"><span class=\"toc-item-num\">3.1&nbsp;&nbsp;</span>Python no dispone de buena documentación</a></span></li><li><span><a href=\"#Es-lento\" data-toc-modified-id=\"Es-lento-3.2\"><span class=\"toc-item-num\">3.2&nbsp;&nbsp;</span>Es lento</a></span></li></ul></li><li><span><a href=\"#Usando-Python-en-Ciencias-de-la-Tierra\" data-toc-modified-id=\"Usando-Python-en-Ciencias-de-la-Tierra-4\"><span class=\"toc-item-num\">4&nbsp;&nbsp;</span>Usando Python en Ciencias de la Tierra</a></span></li><li><span><a href=\"#El-ecosistema-Python\" data-toc-modified-id=\"El-ecosistema-Python-5\"><span class=\"toc-item-num\">5&nbsp;&nbsp;</span>El ecosistema Python</a></span></li><li><span><a href=\"#Instalar-Via-Anaconda-3\" data-toc-modified-id=\"Instalar-Via-Anaconda-3-6\"><span class=\"toc-item-num\">6&nbsp;&nbsp;</span>Instalar Via Anaconda 3</a></span></li><li><span><a href=\"#Instalar-paquetes-adicionales-usando-conda\" data-toc-modified-id=\"Instalar-paquetes-adicionales-usando-conda-7\"><span class=\"toc-item-num\">7&nbsp;&nbsp;</span>Instalar paquetes adicionales usando conda</a></span><ul class=\"toc-item\"><li><ul class=\"toc-item\"><li><span><a href=\"#Instalar-osgeo(gdal)\" data-toc-modified-id=\"Instalar-osgeo(gdal)-7.0.1\"><span class=\"toc-item-num\">7.0.1&nbsp;&nbsp;</span>Instalar osgeo(gdal)</a></span></li><li><span><a href=\"#Instalar-numpy\" data-toc-modified-id=\"Instalar-numpy-7.0.2\"><span class=\"toc-item-num\">7.0.2&nbsp;&nbsp;</span>Instalar numpy</a></span></li><li><span><a href=\"#Instalar-pandas\" data-toc-modified-id=\"Instalar-pandas-7.0.3\"><span class=\"toc-item-num\">7.0.3&nbsp;&nbsp;</span>Instalar pandas</a></span></li><li><span><a href=\"#Instalar-geopandas\" data-toc-modified-id=\"Instalar-geopandas-7.0.4\"><span class=\"toc-item-num\">7.0.4&nbsp;&nbsp;</span>Instalar geopandas</a></span></li><li><span><a href=\"#Instalar-zipfile\" data-toc-modified-id=\"Instalar-zipfile-7.0.5\"><span class=\"toc-item-num\">7.0.5&nbsp;&nbsp;</span>Instalar zipfile</a></span></li><li><span><a href=\"#Instalar-matplotlib\" data-toc-modified-id=\"Instalar-matplotlib-7.0.6\"><span class=\"toc-item-num\">7.0.6&nbsp;&nbsp;</span>Instalar matplotlib</a></span></li><li><span><a href=\"#Instalar-google-earth-engine\" data-toc-modified-id=\"Instalar-google-earth-engine-7.0.7\"><span class=\"toc-item-num\">7.0.7&nbsp;&nbsp;</span>Instalar google earth engine</a></span></li></ul></li></ul></li></ul></div>"
   ]
  },
  {
   "cell_type": "markdown",
   "metadata": {
    "slideshow": {
     "slide_type": "slide"
    }
   },
   "source": [
    "# Bienvenidos a Introducción a Python3!!\n"
   ]
  },
  {
   "cell_type": "markdown",
   "metadata": {
    "slideshow": {
     "slide_type": "slide"
    }
   },
   "source": [
    "# Porque usar python?"
   ]
  },
  {
   "cell_type": "markdown",
   "metadata": {
    "slideshow": {
     "slide_type": "fragment"
    }
   },
   "source": [
    "## Es fácil de aprender, fácil de leer y potente para desarrollar"
   ]
  },
  {
   "cell_type": "markdown",
   "metadata": {
    "slideshow": {
     "slide_type": "fragment"
    }
   },
   "source": [
    "Python se caraceriza por tener módulos y paquetes incluidos, esto significa que dentro de la instalación básica del lenguaje, ya se encuentran incluidas muchas funciones que ayudan a realizar tareas complejas sin la necesidad de instalar paquetes ó módulos adicionales de terceros.\n",
    "\n",
    "La sintaxis que ofrece Python es una de sus características más notorias. En Python, un bloque de código interno (condicionales,loops), se crea a través de indentaciones, lo que fuerza al desarrollador a indentar su código fuente garantizando una sintaxis ordenada y ordenada."
   ]
  },
  {
   "cell_type": "markdown",
   "metadata": {
    "slideshow": {
     "slide_type": "slide"
    }
   },
   "source": [
    "##  Es libre y de código abierto. "
   ]
  },
  {
   "cell_type": "markdown",
   "metadata": {
    "slideshow": {
     "slide_type": "fragment"
    }
   },
   "source": [
    "Python cuenta con licencia Python Software Foundation License, licencia muy parecida a la de GPL, con la excepción de que se puede distribuir los binarios del lenguaje sin tener que anexar las fuentes.\n",
    "\n",
    "La General license Public (GLP), permite a los usuarios usar modificar y redistribuir el software sin restricción alguna y garantizar la no apropiación del software."
   ]
  },
  {
   "cell_type": "markdown",
   "metadata": {
    "slideshow": {
     "slide_type": "slide"
    }
   },
   "source": [
    "## Es multiplataforma."
   ]
  },
  {
   "cell_type": "markdown",
   "metadata": {
    "slideshow": {
     "slide_type": "fragment"
    }
   },
   "source": [
    "Python es un lenguaje de programación interpretado y es compatible con cualquier tipo de sistema operativo (Linux, Mac y Windows) que integre su interpretador. Asimismo, es posible utilizar executalbes compilados en Fortran, C++ y Java."
   ]
  },
  {
   "cell_type": "markdown",
   "metadata": {
    "slideshow": {
     "slide_type": "slide"
    }
   },
   "source": [
    "## Es un lenguaje de propósito general."
   ]
  },
  {
   "cell_type": "markdown",
   "metadata": {
    "slideshow": {
     "slide_type": "fragment"
    }
   },
   "source": [
    "Python no sólo es multiplataforma, sino que también tiene la capacidad  y potencia para desarrollar aplicaciones web, apps y base de datos. Para estos fines Python cuenta con frameworks, los cuales permiten desarrollar algoritmos científicos de cálculo avanzado, hasta el desarrollo de juegos. Cabe resaltar que empresas prestigiosas, utilizan Python para programar todo tipo de aplicaciones y servicios. Los usuarios más distinguidos son Google, YouTube o Facebook."
   ]
  },
  {
   "cell_type": "markdown",
   "metadata": {
    "slideshow": {
     "slide_type": "slide"
    }
   },
   "source": [
    "# Desventajas:"
   ]
  },
  {
   "cell_type": "markdown",
   "metadata": {
    "slideshow": {
     "slide_type": "fragment"
    }
   },
   "source": [
    "## Python no dispone de buena documentación"
   ]
  },
  {
   "cell_type": "markdown",
   "metadata": {
    "slideshow": {
     "slide_type": "fragment"
    }
   },
   "source": [
    "Algunos programadores se quejan de forma recurrente de la falta de buena documentación en Python, sobre todo comparado con otros lenguajes de programación, PHP y Java. Tiene otras desventajas, este análisis de datafull.co es un buen resumen. "
   ]
  },
  {
   "cell_type": "markdown",
   "metadata": {
    "slideshow": {
     "slide_type": "slide"
    }
   },
   "source": [
    "## Es lento"
   ]
  },
  {
   "cell_type": "markdown",
   "metadata": {
    "slideshow": {
     "slide_type": "fragment"
    }
   },
   "source": [
    "Para un número grande de iteraciones si no se usa vectorización, [Cython](http://www.cython.org/) ó [numba](https://numba.pydata.org/).  "
   ]
  },
  {
   "cell_type": "markdown",
   "metadata": {
    "slideshow": {
     "slide_type": "slide"
    }
   },
   "source": [
    "Más lecturas acerca del tema:\n",
    "\n",
    "*  [10 Reasons Python Rocks for Research (And a Few Reasons it Doesn’t)](http://www.stat.washington.edu/~hoytak/blog/whypython.html)\n",
    "*  [I used Matlab. Now I use Python](http://stevetjoa.com/305/)\n",
    "*  [Eight Advantages of Python Over Matlab](http://phillipmfeldman.org/Python/Advantages_of_Python_Over_Matlab.html)"
   ]
  },
  {
   "cell_type": "markdown",
   "metadata": {
    "slideshow": {
     "slide_type": "slide"
    }
   },
   "source": [
    "# Usando Python en Ciencias de la Tierra"
   ]
  },
  {
   "cell_type": "markdown",
   "metadata": {
    "slideshow": {
     "slide_type": "fragment"
    }
   },
   "source": [
    "Lin, J. W.-B. (2012). [**Why Python Is the Next Wave in Earth Sciences Computing**](http://journals.ametsoc.org/doi/full/10.1175/BAMS-D-12-00148.1). *Bulletin of the American Meteorological Society*, 93(12), 1823–1824. doi:10.1175/BAMS-D-12-00148.1"
   ]
  },
  {
   "cell_type": "markdown",
   "metadata": {
    "slideshow": {
     "slide_type": "fragment"
    }
   },
   "source": [
    "* A pesar de que ha existido durante dos décadas, explotó en uso en las ciencias atmosféricas hace solo unos años después de que la comunidad de desarrollo convergiera en los paquetes científicos estándar (por ejemplo, manejo de matrices) necesarios para el trabajo de las ciencias atmosféricas.\n",
    "\n",
    "\n",
    "* Flujo de trabajo mucho más robusto y flexible. Todo, desde la descarga de datos hasta el análisis de datos, la visualización y, finalmente, la redacción de un documento, puede realizarse en un solo entorno."
   ]
  },
  {
   "cell_type": "markdown",
   "metadata": {
    "slideshow": {
     "slide_type": "slide"
    }
   },
   "source": [
    "* La capacidad de acceder a innovaciones de industrias ajenas a las ciencias de la Tierra (computación en la nube, big data, informática móvil).\n",
    "\n",
    "- El apoyo institucional incluye grupos en el Programa Laboratorio Nacional Lawrence Livermore para el Diagnóstico e Intercomparación de Modelos Climáticos, el Laboratorio de Sistemas Informáticos de NCAR y el Centro de Datos Atmosféricos Británicos."
   ]
  },
  {
   "cell_type": "markdown",
   "metadata": {
    "slideshow": {
     "slide_type": "slide"
    }
   },
   "source": [
    "# El ecosistema Python\n",
    "\n",
    "<img  height=\"200\" src=\"http://res.cloudinary.com/dyd911kmh/image/upload/f_auto,q_auto:best/v1509622333/scipy-eco_kqi2su.png\">"
   ]
  },
  {
   "cell_type": "markdown",
   "metadata": {
    "collapsed": true
   },
   "source": [
    "# Instalar Via Anaconda 3\n",
    "1. Descargar el ejecutable de [**Anaconda 3**](https://www.anaconda.com/download/#linux).\n",
    "Si es un usuario de windows y tiene problemas en la instalacion intente [esto](https://www.youtube.com/watch?v=qb2_OeHvyK4).\n",
    "\n"
   ]
  },
  {
   "cell_type": "markdown",
   "metadata": {
    "collapsed": true
   },
   "source": [
    "# Instalar paquetes adicionales usando conda\n",
    "\n",
    "Instale solo los paquetes que falte en su ordenador, conda es algo lento... tengalo en cuenta!.\n",
    "\n",
    "### Instalar osgeo(gdal)\n",
    "\n",
    "$ conda install gdal\n",
    "\n",
    "### Instalar numpy\n",
    "\n",
    "$ conda install numpy\n",
    "\n",
    "### Instalar pandas\n",
    "\n",
    "$ conda install pandas\n",
    "\n",
    "### Instalar geopandas\n",
    "\n",
    "$ conda install geopandas\n",
    "\n",
    "### Instalar zipfile\n",
    "\n",
    "$ conda install zipfile\n",
    "\n",
    "### Instalar matplotlib\n",
    "\n",
    "$ conda install matplotlib\n",
    "\n",
    "### Instalar google earth engine\n",
    "\n",
    "     1) pip install google-api-python-client\n",
    "     2) python -c \"from oauth2client import crypt\"\n",
    "     3) pip install pyCrypto\n",
    "     4) pip install earthengine-api\n",
    "     5) earthengine authenticate\n",
    "     6) python -c \"import ee; ee.Initialize()\"\n"
   ]
  },
  {
   "cell_type": "markdown",
   "metadata": {},
   "source": [
    "**Esta intro slide esta basada en este curso de [python](https://github.com/vrrp/Workshop2018Python)**"
   ]
  }
 ],
 "metadata": {
  "kernelspec": {
   "display_name": "Python 3",
   "language": "python",
   "name": "python3"
  },
  "toc": {
   "base_numbering": 1,
   "nav_menu": {},
   "number_sections": true,
   "sideBar": true,
   "skip_h1_title": false,
   "title_cell": "Table of Contents",
   "title_sidebar": "Contents",
   "toc_cell": true,
   "toc_position": {
    "height": "calc(100% - 180px)",
    "left": "10px",
    "top": "150px",
    "width": "303.542px"
   },
   "toc_section_display": true,
   "toc_window_display": true
  }
 },
 "nbformat": 4,
 "nbformat_minor": 1
}
