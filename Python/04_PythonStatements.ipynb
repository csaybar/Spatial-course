{
 "cells": [
  {
   "cell_type": "markdown",
   "metadata": {
    "toc": true
   },
   "source": [
    "<h1>Table of Contents<span class=\"tocSkip\"></span></h1>\n",
    "<div class=\"toc\"><ul class=\"toc-item\"><li><span><a href=\"#Parte-03:\" data-toc-modified-id=\"Parte-03:-1\"><span class=\"toc-item-num\">1&nbsp;&nbsp;</span>Parte 03:</a></span></li><li><span><a href=\"#1._-Introducción\" data-toc-modified-id=\"1._-Introducción-2\"><span class=\"toc-item-num\">2&nbsp;&nbsp;</span>1._ Introducción</a></span><ul class=\"toc-item\"><li><ul class=\"toc-item\"><li><span><a href=\"#Es-tiempo-para-un-ejemplo!!\" data-toc-modified-id=\"Es-tiempo-para-un-ejemplo!!-2.0.1\"><span class=\"toc-item-num\">2.0.1&nbsp;&nbsp;</span>Es tiempo para un ejemplo!!</a></span></li></ul></li></ul></li><li><span><a href=\"#2._--if,-elif,-else\" data-toc-modified-id=\"2._--if,-elif,-else-3\"><span class=\"toc-item-num\">3&nbsp;&nbsp;</span>2._  if, elif, else</a></span><ul class=\"toc-item\"><li><span><a href=\"#2.1-Ejemplos\" data-toc-modified-id=\"2.1-Ejemplos-3.1\"><span class=\"toc-item-num\">3.1&nbsp;&nbsp;</span>2.1 Ejemplos</a></span></li><li><span><a href=\"#2.2-Estructuras-anidadas\" data-toc-modified-id=\"2.2-Estructuras-anidadas-3.2\"><span class=\"toc-item-num\">3.2&nbsp;&nbsp;</span>2.2 Estructuras anidadas</a></span></li></ul></li><li><span><a href=\"#3._-for\" data-toc-modified-id=\"3._-for-4\"><span class=\"toc-item-num\">4&nbsp;&nbsp;</span>3._ for</a></span><ul class=\"toc-item\"><li><ul class=\"toc-item\"><li><span><a href=\"#Ejemplo-1\" data-toc-modified-id=\"Ejemplo-1-4.0.1\"><span class=\"toc-item-num\">4.0.1&nbsp;&nbsp;</span>Ejemplo 1</a></span></li><li><span><a href=\"#Ejemplo-2\" data-toc-modified-id=\"Ejemplo-2-4.0.2\"><span class=\"toc-item-num\">4.0.2&nbsp;&nbsp;</span>Ejemplo 2</a></span></li><li><span><a href=\"#Ejemplo-3\" data-toc-modified-id=\"Ejemplo-3-4.0.3\"><span class=\"toc-item-num\">4.0.3&nbsp;&nbsp;</span>Ejemplo 3</a></span></li></ul></li><li><span><a href=\"#4._-List-Comprehesions\" data-toc-modified-id=\"4._-List-Comprehesions-4.1\"><span class=\"toc-item-num\">4.1&nbsp;&nbsp;</span>4._ List Comprehesions</a></span></li><li><span><a href=\"#Ejemplo-1\" data-toc-modified-id=\"Ejemplo-1-4.2\"><span class=\"toc-item-num\">4.2&nbsp;&nbsp;</span>Ejemplo 1</a></span></li><li><span><a href=\"#Ejemplo-2\" data-toc-modified-id=\"Ejemplo-2-4.3\"><span class=\"toc-item-num\">4.3&nbsp;&nbsp;</span>Ejemplo 2</a></span></li><li><span><a href=\"#Ejemplo-3\" data-toc-modified-id=\"Ejemplo-3-4.4\"><span class=\"toc-item-num\">4.4&nbsp;&nbsp;</span>Ejemplo 3</a></span></li></ul></li><li><span><a href=\"#Conclusión\" data-toc-modified-id=\"Conclusión-5\"><span class=\"toc-item-num\">5&nbsp;&nbsp;</span>Conclusión</a></span><ul class=\"toc-item\"><li><span><a href=\"#Con-esto-acaba-la-segunda-parte,-es-tiempo-de-una-evaluación-y-luego-pasar-al-análisis-espacial\" data-toc-modified-id=\"Con-esto-acaba-la-segunda-parte,-es-tiempo-de-una-evaluación-y-luego-pasar-al-análisis-espacial-5.1\"><span class=\"toc-item-num\">5.1&nbsp;&nbsp;</span>Con esto acaba la segunda parte, es tiempo de una evaluación y luego pasar al análisis espacial</a></span></li></ul></li></ul></div>"
   ]
  },
  {
   "cell_type": "markdown",
   "metadata": {},
   "source": [
    "# Bienvenidos a Introducción a Python3!!\n",
    "\n",
    "## Parte 03:\n",
    "\n",
    "En esta lectura, usted aprenderá lo esencial acerca de  _Python Statements_.\n",
    "\n",
    "Veremos los siguientes tópicos:\n",
    "\n",
    "    1) if, elif, else (condicionales).\n",
    "    2) Bucles for.\n",
    "    3) List Comprehensions."
   ]
  },
  {
   "cell_type": "markdown",
   "metadata": {},
   "source": [
    "## 1._ Introducción\n",
    "\n",
    "Python3 a diferencia de otros lenguajes (como C++ o R) se deshace de () y {} al incorporar dos factores principales: un *colon* y un *espacio en blanco*. La declaración finaliza con dos puntos, y se usa el espacio en blanco (sangría) para describir lo que ocurre en el caso de la declaración.\n",
    "\n",
    "Otra gran diferencia es la falta de punto y coma en Python. Los puntos y coma se usan para denotar finales de enunciados en muchos otros lenguajes, pero en Python3, el final de una línea es el mismo que el final de un enunciado.\n",
    "\n",
    "Ahora, echemos un vistazo más de cerca a la sintaxis de indentación en Python3 frente por ejemplo a R:\n",
    "\n",
    "#### Es tiempo para un ejemplo!!\n",
    "\n",
    "**R**\n",
    "\n",
    "    if (x) {\n",
    "        if(y) {\n",
    "            declaración;\n",
    "        }\n",
    "    else {\n",
    "        otra declaración;\n",
    "    }\n",
    "        \n",
    "**Python3**\n",
    "    \n",
    "    if x:\n",
    "        if y:\n",
    "            declaración\n",
    "    else:\n",
    "        otra declaración"
   ]
  },
  {
   "cell_type": "markdown",
   "metadata": {},
   "source": [
    "Observe cómo Python3 está tan fuertemente impulsado por la indentación de código y el espacio en blanco. Esto significa que la legibilidad del código es una parte central del diseño del lenguaje Python3.\n",
    "\n",
    "¡Ahora comencemos a profundizar más al codificar este tipo de declaraciones en Python3!"
   ]
  },
  {
   "cell_type": "markdown",
   "metadata": {},
   "source": [
    "## 2._  if, elif, else\n",
    "\n",
    "<code>**if**</code> nos permiten decirle a la computadora que realice acciones alternativas basadas en un cierto conjunto de resultados.\n",
    "\n",
    "Verbalmente, podemos imaginar que le estamos diciendo a la computadora:\n",
    "\n",
    "\"Oye si este caso sucede, realiza alguna acción\"\n",
    "\n",
    "Luego podemos expandir la idea aún más con las declaraciones <code>**elif**</code> y <code>**else**</code>, que nos permiten decirle a la computadora:\n",
    "\n",
    "\"Oye si este caso sucede, realiza esta acción. De lo contrario, si ocurre este otro caso, realiza esta acción. De lo contrario, si **ninguno** de los casos anteriores sucedió, realiza esta acción\".\n",
    "\n",
    "Avancemos y observemos el formato de la sintaxis para las sentencias <code> if, elif y else  </code> para tener una mejor idea de esto:\n",
    "\n",
    "    if caso_1:\n",
    "        realiza la acción_1\n",
    "    elif caso_2:\n",
    "        realiza la acción_2\n",
    "    else: \n",
    "        realiza la acción_3"
   ]
  },
  {
   "cell_type": "markdown",
   "metadata": {},
   "source": [
    "### 2.1 Ejemplos\n",
    "Veamos un ejemplo rápido de esto:"
   ]
  },
  {
   "cell_type": "code",
   "execution_count": 1,
   "metadata": {},
   "outputs": [
    {
     "name": "stdout",
     "output_type": "stream",
     "text": [
      "Eso fue un True!\n"
     ]
    }
   ],
   "source": [
    "if True:\n",
    "    print('Eso fue un True!')"
   ]
  },
  {
   "cell_type": "markdown",
   "metadata": {},
   "source": [
    "Agreguemos algo de lógica:"
   ]
  },
  {
   "cell_type": "code",
   "execution_count": 2,
   "metadata": {},
   "outputs": [
    {
     "name": "stdout",
     "output_type": "stream",
     "text": [
      "Esto se imprimira de ser el caso de que x no fuese True!\n"
     ]
    }
   ],
   "source": [
    "x = False\n",
    "\n",
    "if x:\n",
    "    print('x fue True!')\n",
    "else:\n",
    "    print('Esto se imprimira de ser el caso de que x no fuese True!')"
   ]
  },
  {
   "cell_type": "markdown",
   "metadata": {},
   "source": [
    "### 2.2 Estructuras anidadas\n",
    "\n",
    "Vamos a tener una idea más completa de cuán lejos nos puede llevar <code> if </code>, <code> elif </code> y <code> else </code>.\n",
    "\n",
    "Escribamos una estructura anidada usando lo aprendido. Tome mayor atención de como se alinea el código entre <code>if</code>, <code>elif</code>, y <code>else</code>."
   ]
  },
  {
   "cell_type": "code",
   "execution_count": null,
   "metadata": {},
   "outputs": [],
   "source": []
  },
  {
   "cell_type": "code",
   "execution_count": 3,
   "metadata": {},
   "outputs": [
    {
     "name": "stdout",
     "output_type": "stream",
     "text": [
      "Bienvenido Carlos!\n"
     ]
    }
   ],
   "source": [
    "#Primer ejemplo (if y else)\n",
    "person = 'Carlos'\n",
    "\n",
    "if person == 'Carlos':\n",
    "    print('Bienvenido Carlos!')\n",
    "else:\n",
    "    print(\"Bienvenido, Cual es su nombre?\")"
   ]
  },
  {
   "cell_type": "code",
   "execution_count": 4,
   "metadata": {},
   "outputs": [
    {
     "name": "stdout",
     "output_type": "stream",
     "text": [
      "Bienvenido al banco!\n"
     ]
    }
   ],
   "source": [
    "#Segundo ejemplo (if, elif y else)\n",
    "loc = 'Banco'\n",
    "\n",
    "if loc == 'Lavanderia':\n",
    "    print('Bienvenido a la Lavanderia!')\n",
    "elif loc == 'Banco':\n",
    "    print('Bienvenido al banco!')\n",
    "else:\n",
    "    print('¿Donde estas?')"
   ]
  },
  {
   "cell_type": "markdown",
   "metadata": {},
   "source": [
    "## 3._ for\n",
    "\n",
    "Un buble <code>**for**</code>  actúa como un iterador en Python3; pasa por elementos que están en una *secuencia* o cualquier otro elemento iterable. Los objetos que hemos aprendido sobre los que podemos iterar incluyen a los _strings_, listas y tuplas.\n",
    "\n",
    "Este es el formato general para un bubcle <code>**for**</code>\n",
    "\n",
    "    for item in objeto:\n",
    "        declaración"
   ]
  },
  {
   "cell_type": "markdown",
   "metadata": {},
   "source": [
    "El nombre de variable a utilizar para los elementos depende completamente de usted!, por lo tanto, use su mejor juicio para elegir un nombre que tenga sentido y que pueda comprender al volver a revisar su código. A continuación, se puede hacer referencia al nombre de este elemento dentro de su bucle, por ejemplo, si desea utilizar declaraciones <code> if </code> para realizar comprobaciones.\n",
    "\n",
    "Avancemos y trabajemos a través de varios ejemplos de <code>**for**</code> usando una variedad de tipos de objetos de datos. Empezaremos de forma simple y desarrollaremos más complejidad más adelante."
   ]
  },
  {
   "cell_type": "markdown",
   "metadata": {},
   "source": [
    "#### Ejemplo 1\n",
    "Iterar alrededor de una lista."
   ]
  },
  {
   "cell_type": "code",
   "execution_count": 5,
   "metadata": {},
   "outputs": [],
   "source": [
    "list1 = [1,2,3,4,5,6,7,8,9,10]"
   ]
  },
  {
   "cell_type": "code",
   "execution_count": 6,
   "metadata": {},
   "outputs": [
    {
     "name": "stdout",
     "output_type": "stream",
     "text": [
      "1\n",
      "2\n",
      "3\n",
      "4\n",
      "5\n",
      "6\n",
      "7\n",
      "8\n",
      "9\n",
      "10\n"
     ]
    }
   ],
   "source": [
    "for num in list1:\n",
    "    print(num)"
   ]
  },
  {
   "cell_type": "markdown",
   "metadata": {},
   "source": [
    "#### Ejemplo 2 \n",
    "Imprima los numeros pares de list1."
   ]
  },
  {
   "cell_type": "code",
   "execution_count": 7,
   "metadata": {},
   "outputs": [
    {
     "name": "stdout",
     "output_type": "stream",
     "text": [
      "2\n",
      "4\n",
      "6\n",
      "8\n",
      "10\n"
     ]
    }
   ],
   "source": [
    "for num in list1:\n",
    "    if num % 2 == 0:\n",
    "        print(num)"
   ]
  },
  {
   "cell_type": "markdown",
   "metadata": {},
   "source": [
    "Al ejercicio anterior podemos agregarle condicionales!!."
   ]
  },
  {
   "cell_type": "code",
   "execution_count": 8,
   "metadata": {},
   "outputs": [
    {
     "name": "stdout",
     "output_type": "stream",
     "text": [
      "Odd number\n",
      "2\n",
      "Odd number\n",
      "4\n",
      "Odd number\n",
      "6\n",
      "Odd number\n",
      "8\n",
      "Odd number\n",
      "10\n"
     ]
    }
   ],
   "source": [
    "for num in list1:\n",
    "    if num % 2 == 0:\n",
    "        print(num)\n",
    "    else:\n",
    "        print('Odd number')"
   ]
  },
  {
   "cell_type": "markdown",
   "metadata": {},
   "source": [
    "#### Ejemplo 3\n",
    "Obtenga la suma de los elemento de list1.\n"
   ]
  },
  {
   "cell_type": "code",
   "execution_count": 9,
   "metadata": {},
   "outputs": [
    {
     "name": "stdout",
     "output_type": "stream",
     "text": [
      "55\n"
     ]
    }
   ],
   "source": [
    "# Empezar la suma desde cero\n",
    "list_sum = 0 \n",
    "\n",
    "for num in list1:\n",
    "    list_sum = list_sum + num\n",
    "\n",
    "print(list_sum)"
   ]
  },
  {
   "cell_type": "markdown",
   "metadata": {},
   "source": [
    "Veamos algunos ejemplos mas, pero ahora usando **tuplas!**."
   ]
  },
  {
   "cell_type": "code",
   "execution_count": 10,
   "metadata": {},
   "outputs": [
    {
     "name": "stdout",
     "output_type": "stream",
     "text": [
      "1\n",
      "2\n",
      "3\n",
      "4\n",
      "5\n"
     ]
    }
   ],
   "source": [
    "#Imprimir los elementos de esta tupla\n",
    "tup = (1,2,3,4,5)\n",
    "\n",
    "for t in tup:\n",
    "    print(t)"
   ]
  },
  {
   "cell_type": "code",
   "execution_count": 11,
   "metadata": {},
   "outputs": [],
   "source": [
    "#Imprimir los elementos de esta tupla\n",
    "list2 = [(2,4),(6,8),(10,12)]"
   ]
  },
  {
   "cell_type": "code",
   "execution_count": 12,
   "metadata": {},
   "outputs": [
    {
     "name": "stdout",
     "output_type": "stream",
     "text": [
      "(2, 4)\n",
      "(6, 8)\n",
      "(10, 12)\n"
     ]
    }
   ],
   "source": [
    "for tup in list2:\n",
    "    print(tup)"
   ]
  },
  {
   "cell_type": "code",
   "execution_count": 13,
   "metadata": {},
   "outputs": [
    {
     "name": "stdout",
     "output_type": "stream",
     "text": [
      "2\n",
      "6\n",
      "10\n"
     ]
    }
   ],
   "source": [
    "# Descenpaquetando los valores\n",
    "for (t1,t2) in list2:\n",
    "    print(t1)"
   ]
  },
  {
   "cell_type": "markdown",
   "metadata": {},
   "source": [
    "Veamos algunos ejemplos mas, pero ahora usando **diccionarios!**."
   ]
  },
  {
   "cell_type": "code",
   "execution_count": 14,
   "metadata": {},
   "outputs": [],
   "source": [
    "d = {'k1':1,'k2':2,'k3':3}"
   ]
  },
  {
   "cell_type": "code",
   "execution_count": 15,
   "metadata": {},
   "outputs": [
    {
     "name": "stdout",
     "output_type": "stream",
     "text": [
      "k1\n",
      "k2\n",
      "k3\n"
     ]
    }
   ],
   "source": [
    "for item in d:\n",
    "    print(item)"
   ]
  },
  {
   "cell_type": "markdown",
   "metadata": {},
   "source": [
    "Observe cómo esto produce solo las _keys_. Entonces, ¿cómo podemos obtener los valores? O ambas las claves y los valores?\n",
    "\n",
    "Pues usando los métodos que ya hemos aprendido. ¿Los recuerdas?, estos son: **.keys()**, **.values()** y **.items()**\n"
   ]
  },
  {
   "cell_type": "code",
   "execution_count": 16,
   "metadata": {},
   "outputs": [
    {
     "data": {
      "text/plain": [
       "dict_items([('k1', 1), ('k2', 2), ('k3', 3)])"
      ]
     },
     "execution_count": 16,
     "metadata": {},
     "output_type": "execute_result"
    }
   ],
   "source": [
    "# Create a dictionary view object\n",
    "d.items()"
   ]
  },
  {
   "cell_type": "code",
   "execution_count": 17,
   "metadata": {},
   "outputs": [
    {
     "name": "stdout",
     "output_type": "stream",
     "text": [
      "k1 1\n",
      "k2 2\n",
      "k3 3\n"
     ]
    }
   ],
   "source": [
    "for k,v in d.items():\n",
    "    print(k,v)"
   ]
  },
  {
   "cell_type": "markdown",
   "metadata": {},
   "source": [
    "Hemos aprendido cómo usar bucles para iterar a través de tuplas, listas, cadenas y diccionarios. Será una herramienta importante para nosotros, así que asegúrese de conocerla bien y comprender los ejemplos anteriores.\n",
    "\n",
    "[Más recursos] (http://www.tutorialspoint.com/python/python_for_loop.htm)"
   ]
  },
  {
   "cell_type": "markdown",
   "metadata": {},
   "source": [
    "### 4._ List Comprehesions\n",
    "\n",
    "Además de las operaciones de secuencia y los métodos de lista, Python incluye una operación más avanzada llamada _list comprehesions_.\n",
    "\n",
    "Las _list comprehensions_ nos permiten construir listas usando una notación diferente. Puedes pensar que es esencialmente un bucle <code> for </code> construido dentro de corchetes. Vea un simple ejemplo:\n"
   ]
  },
  {
   "cell_type": "markdown",
   "metadata": {},
   "source": [
    "### Ejemplo 1"
   ]
  },
  {
   "cell_type": "code",
   "execution_count": 18,
   "metadata": {},
   "outputs": [
    {
     "name": "stdout",
     "output_type": "stream",
     "text": [
      "['w', 'o', 'r', 'd']\n"
     ]
    }
   ],
   "source": [
    "# Creando una lista \n",
    "lst = [x for x in 'word']\n",
    "print(lst)"
   ]
  },
  {
   "cell_type": "code",
   "execution_count": 19,
   "metadata": {},
   "outputs": [
    {
     "name": "stdout",
     "output_type": "stream",
     "text": [
      "['w', 'o', 'r', 'd']\n"
     ]
    }
   ],
   "source": [
    "# Esto es semejante a realizar:\n",
    "lst = []\n",
    "for word in 'word':\n",
    "    lst.append(word)\n",
    "print(lst)    "
   ]
  },
  {
   "cell_type": "markdown",
   "metadata": {},
   "source": [
    "Veamos algunos ejemplos mas de **_list comprehensions_**"
   ]
  },
  {
   "cell_type": "markdown",
   "metadata": {},
   "source": [
    "### Ejemplo 2"
   ]
  },
  {
   "cell_type": "code",
   "execution_count": 20,
   "metadata": {},
   "outputs": [],
   "source": [
    "# Obtenga el cuadrado de los numeros del 0 al 10\n",
    "lst = [x**2 for x in range(0,11)]"
   ]
  },
  {
   "cell_type": "code",
   "execution_count": 21,
   "metadata": {},
   "outputs": [
    {
     "data": {
      "text/plain": [
       "[0, 1, 4, 9, 16, 25, 36, 49, 64, 81, 100]"
      ]
     },
     "execution_count": 21,
     "metadata": {},
     "output_type": "execute_result"
    }
   ],
   "source": [
    "lst"
   ]
  },
  {
   "cell_type": "markdown",
   "metadata": {},
   "source": [
    "### Ejemplo 3"
   ]
  },
  {
   "cell_type": "code",
   "execution_count": 22,
   "metadata": {},
   "outputs": [],
   "source": [
    "# Obtenga los numeros pares del 0 al 10\n",
    "lst = [x for x in range(11) if x % 2 == 0]"
   ]
  },
  {
   "cell_type": "code",
   "execution_count": 23,
   "metadata": {},
   "outputs": [
    {
     "data": {
      "text/plain": [
       "[0, 2, 4, 6, 8, 10]"
      ]
     },
     "execution_count": 23,
     "metadata": {},
     "output_type": "execute_result"
    }
   ],
   "source": [
    "lst"
   ]
  },
  {
   "cell_type": "code",
   "execution_count": 24,
   "metadata": {},
   "outputs": [
    {
     "data": {
      "text/plain": [
       "[32.0, 50.0, 68.18, 94.1]"
      ]
     },
     "execution_count": 24,
     "metadata": {},
     "output_type": "execute_result"
    }
   ],
   "source": [
    "# Convertir grados Celsius a Fahrenheit\n",
    "celsius = [0,10,20.1,34.5]\n",
    "fahrenheit = [((9/5)*temp + 32) for temp in celsius ]\n",
    "fahrenheit"
   ]
  },
  {
   "cell_type": "markdown",
   "metadata": {},
   "source": [
    "## Conclusión\n",
    "\n",
    "Hemos aprendido cómo usar bucles para iterar a través de tuplas, listas y diccionarios. Será una herramienta importante para nosotros, así que asegúrese de conocerla bien y comprender los ejemplos anteriores.\n",
    "\n",
    "[Más recursos](http://www.tutorialspoint.com/python/python_for_loop.htm)"
   ]
  },
  {
   "cell_type": "markdown",
   "metadata": {},
   "source": [
    "### Con esto acaba la segunda parte, es tiempo de una evaluación y luego pasar al análisis espacial"
   ]
  },
  {
   "cell_type": "code",
   "execution_count": null,
   "metadata": {},
   "outputs": [],
   "source": []
  }
 ],
 "metadata": {
  "kernelspec": {
   "display_name": "Python 3",
   "language": "python",
   "name": "python3"
  },
  "language_info": {
   "codemirror_mode": {
    "name": "ipython",
    "version": 3
   },
   "file_extension": ".py",
   "mimetype": "text/x-python",
   "name": "python",
   "nbconvert_exporter": "python",
   "pygments_lexer": "ipython3",
   "version": "3.5.3"
  },
  "toc": {
   "base_numbering": 1,
   "nav_menu": {},
   "number_sections": true,
   "sideBar": true,
   "skip_h1_title": true,
   "title_cell": "Table of Contents",
   "title_sidebar": "Contents",
   "toc_cell": true,
   "toc_position": {},
   "toc_section_display": true,
   "toc_window_display": true
  }
 },
 "nbformat": 4,
 "nbformat_minor": 2
}
