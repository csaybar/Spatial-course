{
 "cells": [
  {
   "cell_type": "markdown",
   "metadata": {
    "toc": true
   },
   "source": [
    "<h1>Table of Contents<span class=\"tocSkip\"></span></h1>\n",
    "<div class=\"toc\"><ul class=\"toc-item\"><li><span><a href=\"#Parte-02:\" data-toc-modified-id=\"Parte-02:-1\"><span class=\"toc-item-num\">1&nbsp;&nbsp;</span>Parte 02:</a></span><ul class=\"toc-item\"><li><span><a href=\"#Igual\" data-toc-modified-id=\"Igual-1.1\"><span class=\"toc-item-num\">1.1&nbsp;&nbsp;</span>Igual</a></span></li><li><span><a href=\"#No-igual\" data-toc-modified-id=\"No-igual-1.2\"><span class=\"toc-item-num\">1.2&nbsp;&nbsp;</span>No igual</a></span></li><li><span><a href=\"#Mayor-que\" data-toc-modified-id=\"Mayor-que-1.3\"><span class=\"toc-item-num\">1.3&nbsp;&nbsp;</span>Mayor que</a></span></li><li><span><a href=\"#Menor-que\" data-toc-modified-id=\"Menor-que-1.4\"><span class=\"toc-item-num\">1.4&nbsp;&nbsp;</span>Menor que</a></span></li><li><span><a href=\"#Mayor-o-igual-que\" data-toc-modified-id=\"Mayor-o-igual-que-1.5\"><span class=\"toc-item-num\">1.5&nbsp;&nbsp;</span>Mayor o igual que</a></span></li><li><span><a href=\"#Menor-o-igual-que\" data-toc-modified-id=\"Menor-o-igual-que-1.6\"><span class=\"toc-item-num\">1.6&nbsp;&nbsp;</span>Menor o igual que</a></span></li></ul></li><li><span><a href=\"#Esto-es-todo-para-esta-lección!\" data-toc-modified-id=\"Esto-es-todo-para-esta-lección!-2\"><span class=\"toc-item-num\">2&nbsp;&nbsp;</span>Esto es todo para esta lección!</a></span></li></ul></div>"
   ]
  },
  {
   "cell_type": "markdown",
   "metadata": {},
   "source": [
    "# Bienvenidos a Introducción a Python3!!\n",
    "\n",
    "## Parte 02:\n",
    "\n",
    "En esta lectura, usted aprenderá lo esencial acerca de Operadores de Comparación. Estos operadores siempre recordarán un valor booleano. Si usted tienen alguna noción de matemáticas esta lección sera pan comido. \n",
    "\n",
    "\n",
    "<table class = \"table table-bordered\">\n",
    "<tr>\n",
    "<th style = \"width: 10%\"> Operador </th> <th style = \"width: 45%\"> Descripción </th> <th> Ejemplo </th>\n",
    "</tr>\n",
    "<tr>\n",
    "<td> == </td>\n",
    "<td> Si los valores de dos operandos son iguales, la condición se convierte en verdadera. </td>\n",
    "<td> (a == b) no es verdadero. </td>\n",
    "</tr>\n",
    "<tr>\n",
    "<td>! = </td>\n",
    "<td> Si los valores de dos operandos no son iguales, entonces la condición se convierte en verdadera. </td>\n",
    "<td> (a! = b) es verdadero </td>\n",
    "</tr>\n",
    "<tr>\n",
    "<td> &gt; </td>\n",
    "<td> Si el valor del operando izquierdo es mayor que el valor del operando derecho, entonces la condición se convierte en verdadera. </td>\n",
    "<td> (a &gt; b) no es verdadero. </td>\n",
    "</tr>\n",
    "<tr>\n",
    "<td> &lt; </td>\n",
    "<td> Si el valor del operando izquierdo es menor que el valor del operando derecho, entonces la condición se convierte en verdadera. </td>\n",
    "<td> (a &lt; b) es verdadero. </td>\n",
    "</tr>\n",
    "<tr>\n",
    "<td> &gt; = </td>\n",
    "<td> Si el valor del operando izquierdo es mayor o igual que el valor del operando derecho, entonces la condición se convierte en verdadera. </td>\n",
    "<td> (a &gt; = b) no es verdadero. </td>\n",
    "</tr>\n",
    "<tr>\n",
    "<td> &lt; = </td>\n",
    "<td> Si el valor del operando izquierdo es menor o igual que el valor del operando derecho, entonces la condición se convierte en verdadera. </td>\n",
    "<td> (a &lt; = b) es verdadero. </td>\n",
    "</tr>\n",
    "</table>"
   ]
  },
  {
   "cell_type": "markdown",
   "metadata": {},
   "source": [
    "\n",
    "Veamos ahora algunos ejemplos\n",
    "### Igual\n"
   ]
  },
  {
   "cell_type": "code",
   "execution_count": 2,
   "metadata": {},
   "outputs": [
    {
     "data": {
      "text/plain": [
       "True"
      ]
     },
     "execution_count": 2,
     "metadata": {},
     "output_type": "execute_result"
    }
   ],
   "source": [
    "2 == 2"
   ]
  },
  {
   "cell_type": "code",
   "execution_count": 3,
   "metadata": {},
   "outputs": [
    {
     "data": {
      "text/plain": [
       "False"
      ]
     },
     "execution_count": 3,
     "metadata": {},
     "output_type": "execute_result"
    }
   ],
   "source": [
    "1 == 0"
   ]
  },
  {
   "cell_type": "markdown",
   "metadata": {},
   "source": [
    "Recuerde que <code>==</code> es un operador de <em>comparasión</em>, mientras que <code>=</code> es un operador de <em>asignación</em>."
   ]
  },
  {
   "cell_type": "markdown",
   "metadata": {},
   "source": [
    "### No igual"
   ]
  },
  {
   "cell_type": "code",
   "execution_count": 6,
   "metadata": {},
   "outputs": [
    {
     "data": {
      "text/plain": [
       "True"
      ]
     },
     "execution_count": 6,
     "metadata": {},
     "output_type": "execute_result"
    }
   ],
   "source": [
    "2 != 1"
   ]
  },
  {
   "cell_type": "code",
   "execution_count": 7,
   "metadata": {},
   "outputs": [
    {
     "data": {
      "text/plain": [
       "False"
      ]
     },
     "execution_count": 7,
     "metadata": {},
     "output_type": "execute_result"
    }
   ],
   "source": [
    "2 != 2"
   ]
  },
  {
   "cell_type": "markdown",
   "metadata": {},
   "source": [
    "### Mayor que"
   ]
  },
  {
   "cell_type": "code",
   "execution_count": 8,
   "metadata": {},
   "outputs": [
    {
     "data": {
      "text/plain": [
       "True"
      ]
     },
     "execution_count": 8,
     "metadata": {},
     "output_type": "execute_result"
    }
   ],
   "source": [
    "2 > 1"
   ]
  },
  {
   "cell_type": "code",
   "execution_count": 9,
   "metadata": {},
   "outputs": [
    {
     "data": {
      "text/plain": [
       "False"
      ]
     },
     "execution_count": 9,
     "metadata": {},
     "output_type": "execute_result"
    }
   ],
   "source": [
    "2 > 4"
   ]
  },
  {
   "cell_type": "markdown",
   "metadata": {},
   "source": [
    "### Menor que "
   ]
  },
  {
   "cell_type": "code",
   "execution_count": 10,
   "metadata": {},
   "outputs": [
    {
     "data": {
      "text/plain": [
       "True"
      ]
     },
     "execution_count": 10,
     "metadata": {},
     "output_type": "execute_result"
    }
   ],
   "source": [
    "2 < 4"
   ]
  },
  {
   "cell_type": "code",
   "execution_count": 11,
   "metadata": {},
   "outputs": [
    {
     "data": {
      "text/plain": [
       "False"
      ]
     },
     "execution_count": 11,
     "metadata": {},
     "output_type": "execute_result"
    }
   ],
   "source": [
    "2 < 1"
   ]
  },
  {
   "cell_type": "markdown",
   "metadata": {},
   "source": [
    "### Mayor o igual que"
   ]
  },
  {
   "cell_type": "code",
   "execution_count": 12,
   "metadata": {},
   "outputs": [
    {
     "data": {
      "text/plain": [
       "True"
      ]
     },
     "execution_count": 12,
     "metadata": {},
     "output_type": "execute_result"
    }
   ],
   "source": [
    "2 >= 2"
   ]
  },
  {
   "cell_type": "code",
   "execution_count": 13,
   "metadata": {},
   "outputs": [
    {
     "data": {
      "text/plain": [
       "True"
      ]
     },
     "execution_count": 13,
     "metadata": {},
     "output_type": "execute_result"
    }
   ],
   "source": [
    "2 >= 1"
   ]
  },
  {
   "cell_type": "markdown",
   "metadata": {},
   "source": [
    "### Menor o igual que"
   ]
  },
  {
   "cell_type": "code",
   "execution_count": 14,
   "metadata": {},
   "outputs": [
    {
     "data": {
      "text/plain": [
       "True"
      ]
     },
     "execution_count": 14,
     "metadata": {},
     "output_type": "execute_result"
    }
   ],
   "source": [
    "2 <= 2"
   ]
  },
  {
   "cell_type": "code",
   "execution_count": 15,
   "metadata": {},
   "outputs": [
    {
     "data": {
      "text/plain": [
       "True"
      ]
     },
     "execution_count": 15,
     "metadata": {},
     "output_type": "execute_result"
    }
   ],
   "source": [
    "2 <= 4"
   ]
  },
  {
   "cell_type": "markdown",
   "metadata": {},
   "source": [
    "## Esto es todo para esta lección!"
   ]
  }
 ],
 "metadata": {
  "kernelspec": {
   "display_name": "Python 3",
   "language": "python",
   "name": "python3"
  },
  "toc": {
   "base_numbering": 1,
   "nav_menu": {},
   "number_sections": true,
   "sideBar": true,
   "skip_h1_title": true,
   "title_cell": "Table of Contents",
   "title_sidebar": "Contents",
   "toc_cell": true,
   "toc_position": {},
   "toc_section_display": true,
   "toc_window_display": true
  }
 },
 "nbformat": 4,
 "nbformat_minor": 2
}
