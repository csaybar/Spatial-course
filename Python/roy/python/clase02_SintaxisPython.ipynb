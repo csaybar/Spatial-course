{
 "cells": [
  {
   "cell_type": "markdown",
   "metadata": {
    "colab_type": "text",
    "id": "view-in-github"
   },
   "source": [
    "<a href=\"https://colab.research.google.com/github/ryali93/UNMSM_programacion2019-1/blob/master/jupyter/clase02_SintaxisPython.ipynb\" target=\"_parent\"><img src=\"https://colab.research.google.com/assets/colab-badge.svg\" alt=\"Open In Colab\"/></a>"
   ]
  },
  {
   "cell_type": "markdown",
   "metadata": {
    "colab_type": "text",
    "id": "6vaDt7Z2b8nc"
   },
   "source": [
    "# Clase 02\n",
    "# SINTAXIS Y TIPOS DE DATOS"
   ]
  },
  {
   "cell_type": "markdown",
   "metadata": {
    "colab_type": "text",
    "id": "6fYsQ6HAddBS"
   },
   "source": [
    "En esta lección revisaremos los tipos de datos, aprenderemos cómo se pueden almacenar los datos en las listas de Python y sobre el concepto de objetos en la programación."
   ]
  },
  {
   "cell_type": "markdown",
   "metadata": {
    "colab_type": "text",
    "id": "i_piNRda66Fv"
   },
   "source": [
    "## 2.1 Tipos de datos\n"
   ]
  },
  {
   "cell_type": "markdown",
   "metadata": {
    "colab_type": "text",
    "id": "HMq0SrXE7ALP"
   },
   "source": [
    "Los tipos de variables posibles en Python son:\n",
    "\n",
    "### Números:\n",
    "\n",
    "\n",
    "*   string (str): Son caracteres, no tienen valor numérico\n",
    "*   integer (int): Números enteros o naturales\n",
    "*   float (float): Números flotantes o reales\n",
    "\n",
    "\n"
   ]
  },
  {
   "cell_type": "code",
   "execution_count": 0,
   "metadata": {
    "colab": {},
    "colab_type": "code",
    "id": "PqT4nZcd8Nns"
   },
   "outputs": [],
   "source": [
    "a = 3        # esto es un número entero [int].\n",
    "print(\"a es: \", type(a))\n",
    "print(a)\n",
    "\n",
    "b = 39.747  # esto es un número de coma flotante (float)\n",
    "print(\"\\nb es: \", type(b))\n",
    "print(b)\n",
    "\n",
    "z = 4 + 6j   # esto es un número complejo \n",
    "print(\"\\nz es: \", type(z))\n",
    "print(z)\n",
    "\n",
    "str1 = 'hola'\n",
    "\n",
    "str2 = int(\"123\")\n",
    "\n",
    "print(\"\\na+b=\", a + b)\n",
    "print(\"\\nstr2 + a = \", str2 + a)\n",
    "print(type(str2))"
   ]
  },
  {
   "cell_type": "markdown",
   "metadata": {
    "colab_type": "text",
    "id": "Tz5WAxdb8QZx"
   },
   "source": [
    "### Cadena de texto:"
   ]
  },
  {
   "cell_type": "code",
   "execution_count": 0,
   "metadata": {
    "colab": {},
    "colab_type": "code",
    "id": "eQc-jAAN8VAt"
   },
   "outputs": [],
   "source": [
    "c1 = \"Bienvenido año nuevo \"    # esto es una cadena de caracteres.\n",
    "print(\"c1 es: \", type(c1))\n",
    "print(c1)\n",
    "\n",
    "c2 = \"2019\"          # esto es una cadena de caracteres. \n",
    "print(\"\\nc2 es: \", type(c2))\n",
    "print(c2)\n",
    "\n",
    "c3 = c1 + c2         # concatenación de dos cadenas de caracteres\n",
    "print(\"\\nc3 es: \", type(c3))\n",
    "print(c3)\n",
    "print(\"\\nc3 tiene \", len(c3), \"caracteres\") # La función [len] devuelve el número de caracteres de una cadena."
   ]
  },
  {
   "cell_type": "markdown",
   "metadata": {
    "colab_type": "text",
    "id": "Ab66VppZ8Y8L"
   },
   "source": [
    "### Booleanos:\n",
    "\n",
    "El tipo booleano sólo puede tener dos valores: True (cierto) y False (falso). Estos valores son especialmente importantes para las expresiones condicionales y los bucles."
   ]
  },
  {
   "cell_type": "code",
   "execution_count": 0,
   "metadata": {
    "colab": {},
    "colab_type": "code",
    "id": "5mP8B8cN8dOB"
   },
   "outputs": [],
   "source": [
    "# Conjunción\n",
    "True and True\n",
    "#True and False"
   ]
  },
  {
   "cell_type": "code",
   "execution_count": 0,
   "metadata": {
    "colab": {},
    "colab_type": "code",
    "id": "hVHPfx2M8d53"
   },
   "outputs": [],
   "source": [
    "# Disyunción\n",
    "#True or True\n",
    "#True or False\n",
    "False or False"
   ]
  },
  {
   "cell_type": "markdown",
   "metadata": {
    "colab_type": "text",
    "id": "ODChrykC8feH"
   },
   "source": [
    "### Ejemplos:"
   ]
  },
  {
   "cell_type": "code",
   "execution_count": 0,
   "metadata": {
    "colab": {},
    "colab_type": "code",
    "id": "uS9A4H6F8kWr"
   },
   "outputs": [],
   "source": [
    "dd= not True\n",
    "print(\"dd es: \", dd)"
   ]
  },
  {
   "cell_type": "code",
   "execution_count": 0,
   "metadata": {
    "colab": {},
    "colab_type": "code",
    "id": "HSLnWxpy8mGG"
   },
   "outputs": [],
   "source": [
    "not not not not not True"
   ]
  },
  {
   "cell_type": "code",
   "execution_count": 0,
   "metadata": {
    "colab": {},
    "colab_type": "code",
    "id": "UQQgyvbg8nQk"
   },
   "outputs": [],
   "source": [
    "(4 < 5) and (5 < 6)"
   ]
  },
  {
   "cell_type": "code",
   "execution_count": 0,
   "metadata": {
    "colab": {},
    "colab_type": "code",
    "id": "_KKWsfVr8oUk"
   },
   "outputs": [],
   "source": [
    "(4 < 5 ) and (9 < 6)"
   ]
  },
  {
   "cell_type": "code",
   "execution_count": 0,
   "metadata": {
    "colab": {},
    "colab_type": "code",
    "id": "WpwrbSfv8p_s"
   },
   "outputs": [],
   "source": [
    "x1 = (1 == 2) or (2 == 2)\n",
    "x2 = (1 == 2) and (2 == 2)\n",
    "\n",
    "print(\"x1 es: \", x1)\n",
    "print(\"x2 es: \", x2)"
   ]
  },
  {
   "cell_type": "code",
   "execution_count": 0,
   "metadata": {
    "colab": {},
    "colab_type": "code",
    "id": "BgQpgOH_8rUa"
   },
   "outputs": [],
   "source": [
    "2 + 2 == 4 and not 2 + 2 == 5 and 2 * 2 == 2 + 2"
   ]
  },
  {
   "cell_type": "code",
   "execution_count": 0,
   "metadata": {
    "colab": {},
    "colab_type": "code",
    "id": "rSBPj2NlGZan"
   },
   "outputs": [],
   "source": [
    "nombre = 'CHOSICA'\n",
    "id = 202906\n",
    "longitud = 76+41/60+23.8/3600 # 76° 41'23.8\n",
    "latitud = 11+55/60+48.5/3600 # 11° 55'48.5\"\n",
    "tipo = 'Hidrometrica'\n",
    "fecha = \"28-02-1998\""
   ]
  },
  {
   "cell_type": "markdown",
   "metadata": {
    "colab_type": "text",
    "id": "4WxNDKdaIY6G"
   },
   "source": [
    "Podemos explorar los diferentes tipos de datos almacenados en variables usando la type()función."
   ]
  },
  {
   "cell_type": "code",
   "execution_count": 0,
   "metadata": {
    "colab": {},
    "colab_type": "code",
    "id": "D9Xm4oD5Hp-b"
   },
   "outputs": [],
   "source": [
    "type(nombre)"
   ]
  },
  {
   "cell_type": "code",
   "execution_count": 0,
   "metadata": {
    "colab": {},
    "colab_type": "code",
    "id": "uIJR5n13IXoK"
   },
   "outputs": [],
   "source": [
    "type(id)"
   ]
  },
  {
   "cell_type": "code",
   "execution_count": 0,
   "metadata": {
    "colab": {},
    "colab_type": "code",
    "id": "vvJpIdpbIkWv"
   },
   "outputs": [],
   "source": [
    "type(latitud)"
   ]
  },
  {
   "cell_type": "code",
   "execution_count": 0,
   "metadata": {
    "colab": {},
    "colab_type": "code",
    "id": "c0yGOSfwIreW"
   },
   "outputs": [],
   "source": [
    "type(tipo)"
   ]
  },
  {
   "cell_type": "markdown",
   "metadata": {
    "colab_type": "text",
    "id": "WimqvKld-A7o"
   },
   "source": [
    "## Métodos de cadenas"
   ]
  },
  {
   "cell_type": "markdown",
   "metadata": {
    "colab_type": "text",
    "id": "o7GJJsyTJUOW"
   },
   "source": [
    "Recuerde que los tipos de datos son importantes porque algunos no son compatibles entre sí."
   ]
  },
  {
   "cell_type": "code",
   "execution_count": 0,
   "metadata": {
    "colab": {},
    "colab_type": "code",
    "id": "a9WB-iKlJWnG"
   },
   "outputs": [],
   "source": [
    "nombre + id"
   ]
  },
  {
   "cell_type": "markdown",
   "metadata": {
    "colab_type": "text",
    "id": "dcpwjbnmJbsG"
   },
   "source": [
    "Aquí obtenemos una **TypeError** porque Python no sabe cómo combinar una cadena de caracteres (nombre) con un valor entero ( id)."
   ]
  },
  {
   "cell_type": "markdown",
   "metadata": {
    "colab_type": "text",
    "id": "YeQaRXUb-LKi"
   },
   "source": [
    "En otros lenguajes de programación es necesario escribir o declarar variables antes que puedan almacenar cualquier cosa en ellas. Esto no es necesario cuando trabajas con cadenas de caracteres en Python."
   ]
  },
  {
   "cell_type": "code",
   "execution_count": 0,
   "metadata": {
    "colab": {},
    "colab_type": "code",
    "id": "XA87UjZG-NS2"
   },
   "outputs": [],
   "source": [
    "cadena1 = \"océano \"\n",
    "cadena2 = \"atmósfera\"\n",
    "\n",
    "cadena = \"Interacción \"+cadena1 + cadena2\n",
    "print(cadena)"
   ]
  },
  {
   "cell_type": "code",
   "execution_count": 0,
   "metadata": {
    "colab": {},
    "colab_type": "code",
    "id": "pbTJQ7W8-QdM"
   },
   "outputs": [],
   "source": [
    "cadena1 = \"océano \"\n",
    "cadena2 = \"atmósfera\"\n",
    "\n",
    "cadena = \"Interacción \"+cadena1 + cadena2\n",
    "print(cadena)\n",
    "print(\"--\"*2)\n",
    "\n",
    "cadena1 = \"océano \\n\"\n",
    "cadena2 = \"atmósfera\"\n",
    "cadena = \"Interacción \"+cadena1 + cadena2\n",
    "print(cadena)"
   ]
  },
  {
   "cell_type": "code",
   "execution_count": 0,
   "metadata": {
    "colab": {},
    "colab_type": "code",
    "id": "XNFgIPty-TKF"
   },
   "outputs": [],
   "source": [
    "cadena = \"123\"\n",
    "numero = str(123)\n",
    "c = cadena + numero\n",
    "print(c)"
   ]
  },
  {
   "cell_type": "markdown",
   "metadata": {
    "colab_type": "text",
    "id": "Gnqj7i0l-ht7"
   },
   "source": [
    "### Indexación de cadenas"
   ]
  },
  {
   "cell_type": "code",
   "execution_count": 0,
   "metadata": {
    "colab": {},
    "colab_type": "code",
    "id": "dlRxHgiI-jHB"
   },
   "outputs": [],
   "source": [
    "cadena1 = \"océano \"\n",
    "cadena2 = \"atmósfera\"\n",
    "\n",
    "cadena = \"Interacción \"+cadena1 + cadena2\n",
    "print(cadena)\n",
    "print(\"\\n\")\n",
    "\n",
    "print(\"índice [0]:\", cadena[0])\n",
    "print(\"índice [:] al [4]:\", cadena[:4])\n",
    "print(\"------------------------------------------------\")\n",
    "\n",
    "print(\"índice [-1]:\", cadena[-1])\n",
    "print(\"índice [-1] al [-4]:\", cadena[-4:])"
   ]
  },
  {
   "cell_type": "markdown",
   "metadata": {
    "colab_type": "text",
    "id": "tTMAMwB4-lwn"
   },
   "source": [
    "### Multiplicar cadena"
   ]
  },
  {
   "cell_type": "code",
   "execution_count": 0,
   "metadata": {
    "colab": {},
    "colab_type": "code",
    "id": "Cm2J136g-qNP"
   },
   "outputs": [],
   "source": [
    "cadena1 = \"océano \"\n",
    "cadena2 = \"atmósfera\"\n",
    "\n",
    "cadena = \"Interacción \"*3 + cadena1 + cadena2\n",
    "print(cadena)\n",
    "\n",
    "print(\"\\n\")\n",
    "cadena = \"Interacción \"*6 + cadena1 + cadena2\n",
    "print(cadena)"
   ]
  },
  {
   "cell_type": "markdown",
   "metadata": {
    "colab_type": "text",
    "id": "ozNsvav2-sQK"
   },
   "source": [
    "### Añadir caracteres a una cadena"
   ]
  },
  {
   "cell_type": "code",
   "execution_count": 0,
   "metadata": {
    "colab": {},
    "colab_type": "code",
    "id": "9dBZfro0-uIp"
   },
   "outputs": [],
   "source": [
    "cadena1 = \"océano \"\n",
    "cadena2 = \"atmósfera\"\n",
    "\n",
    "cadena = \"Interacción \" + cadena1 + cadena2\n",
    "print(cadena)\n",
    "\n",
    "print(\"\\n\")\n",
    "cadena += \" continente\"\n",
    "print(cadena)"
   ]
  },
  {
   "cell_type": "markdown",
   "metadata": {
    "colab_type": "text",
    "id": "MbDrDypJ-wzF"
   },
   "source": [
    "### Determinar el número de caracteres de una cadena\n",
    "\n",
    "La función len devuelve el número de caracteres de una cadena. Esto es considerando la cantidad de caracteres y espacios en blanco.\n",
    "\n"
   ]
  },
  {
   "cell_type": "code",
   "execution_count": 0,
   "metadata": {
    "colab": {},
    "colab_type": "code",
    "id": "xSq8lKsZ-wWc"
   },
   "outputs": [],
   "source": [
    "cadena1 = \"océano \"\n",
    "print(len(cadena1))\n",
    "\n",
    "cadena2 = \"atmósfera\"\n",
    "print(len(cadena2))\n",
    "\n",
    "cadena = \"Interacción \" + cadena1 + cadena2\n",
    "print(len(cadena))"
   ]
  },
  {
   "cell_type": "markdown",
   "metadata": {
    "colab_type": "text",
    "id": "Ev8i7zD0-5zG"
   },
   "source": [
    "### Buscar sub-cadenas\n",
    "\n",
    "Es posible recorrer todas las sub cadenas de una cadena, utilizando el método find, quién devuelve el índice de inicio de la sub-cadena."
   ]
  },
  {
   "cell_type": "code",
   "execution_count": 0,
   "metadata": {
    "colab": {},
    "colab_type": "code",
    "id": "c1ESB81w-wS6"
   },
   "outputs": [],
   "source": [
    "cadena1 = \"océano \"\n",
    "cadena2 = \"atmósfera\"\n",
    "\n",
    "cadena = \"Interacción \" + cadena1 + cadena2\n",
    "print(cadena)\n",
    "\n",
    "buscarSC = cadena.find(\"atmósfera\")\n",
    "print(buscarSC)"
   ]
  },
  {
   "cell_type": "markdown",
   "metadata": {
    "colab_type": "text",
    "id": "3fnOmGr9--aT"
   },
   "source": [
    "Si la sub-cadena no se encuentra dentro de la cadena, el método **find** devolverá el valor -1"
   ]
  },
  {
   "cell_type": "code",
   "execution_count": 0,
   "metadata": {
    "colab": {},
    "colab_type": "code",
    "id": "TMgfhwLj_EQy"
   },
   "outputs": [],
   "source": [
    "cadena1 = \"océano \"\n",
    "cadena2 = \"atmósfera\"\n",
    "\n",
    "cadena = \"Interacción \" + cadena1 + cadena2\n",
    "print(cadena)\n",
    "\n",
    "buscarSC = cadena.find(\"acción océ\")\n",
    "print(buscarSC)"
   ]
  },
  {
   "cell_type": "markdown",
   "metadata": {
    "colab_type": "text",
    "id": "yn3V-tZb_Evd"
   },
   "source": [
    "### Convertir: minúsculas y mayusculas\n",
    "\n",
    "Los caracteres tienen diferentes métodos. Sigue de cerca las instrucciones para descubrir algunas de ellas. Si desea descubrirlos con más detalle, siempre puede escribir **help(str)**.\n",
    "\n",
    "**upper():** devuelve una copia de la cadena en la que todos los caracteres como mayúsculas.\n",
    "\n",
    "**lower():** devuelve una copia de la cadena en la que todos los caracteres como minúsculas."
   ]
  },
  {
   "cell_type": "code",
   "execution_count": 0,
   "metadata": {
    "colab": {},
    "colab_type": "code",
    "id": "w_L1dxNq_H_c"
   },
   "outputs": [],
   "source": [
    "cadena1 = \"océano \"\n",
    "cadena2 = \"atmósfera\"\n",
    "\n",
    "cadena = \"Interacción \" + cadena1 + cadena2\n",
    "\n",
    "print(cadena)\n",
    "print(cadena.upper())\n",
    "print(cadena.lower())"
   ]
  },
  {
   "cell_type": "markdown",
   "metadata": {
    "colab_type": "text",
    "id": "6EZmO7jf_aD5"
   },
   "source": [
    "### Reemplazar caracteres"
   ]
  },
  {
   "cell_type": "code",
   "execution_count": 0,
   "metadata": {
    "colab": {},
    "colab_type": "code",
    "id": "5k7Uchbk_ce5"
   },
   "outputs": [],
   "source": [
    "cadena1 = \"océano \"\n",
    "cadena2 = \"atmósfera\"\n",
    "\n",
    "cadena = \"Interacción \" + cadena1 + cadena2\n",
    "print(cadena)\n",
    "\n",
    "newCad = cadena.replace(\"o\", \"land\")\n",
    "print(newCad)"
   ]
  },
  {
   "cell_type": "markdown",
   "metadata": {
    "colab_type": "text",
    "id": "2swc48WFJrk1"
   },
   "source": [
    "### Convertir datos de un tipo a otro (Coerción)"
   ]
  },
  {
   "cell_type": "markdown",
   "metadata": {
    "colab_type": "text",
    "id": "bJLn63MNJ6af"
   },
   "source": [
    "No es el caso que variables como la ***nombre*** y ***id***  no puedan combinarse en absoluto, para combinar una cadena de caracteres con un número necesitamos realizar una conversión de tipo de datos para que sean compatibles. \n",
    "Por ejemplo, podríamos convertir el ***id*** entero en una cadena de caracteres usando la función str()."
   ]
  },
  {
   "cell_type": "code",
   "execution_count": 0,
   "metadata": {
    "colab": {},
    "colab_type": "code",
    "id": "m3_L0SL7KkYm"
   },
   "outputs": [],
   "source": [
    "idstr = str(id)"
   ]
  },
  {
   "cell_type": "code",
   "execution_count": 0,
   "metadata": {
    "colab": {},
    "colab_type": "code",
    "id": "dcBPz_6cKtVV"
   },
   "outputs": [],
   "source": [
    "type(id)"
   ]
  },
  {
   "cell_type": "code",
   "execution_count": 0,
   "metadata": {
    "colab": {},
    "colab_type": "code",
    "id": "Oq50jrTcKu9N"
   },
   "outputs": [],
   "source": [
    "print(id)"
   ]
  },
  {
   "cell_type": "markdown",
   "metadata": {
    "colab_type": "text",
    "id": "1GNUh--cK7le"
   },
   "source": [
    "Como puede ver, **str()** convierte un valor numérico en una cadena de caracteres con los mismos números que antes."
   ]
  },
  {
   "cell_type": "markdown",
   "metadata": {
    "colab_type": "text",
    "id": "eb2uq9I3LBOU"
   },
   "source": [
    "Similar a usar **str()** para convertir números en cadenas de caracteres, **int()** se puede usar para convertir cadenas o números de punto flotante en enteros y **float()** se puede usar para convertir cadenas o números enteros en números de punto flotante."
   ]
  },
  {
   "cell_type": "markdown",
   "metadata": {
    "colab_type": "text",
    "id": "SkJQ2mcPL-Yl"
   },
   "source": [
    "### Combinando texto y números "
   ]
  },
  {
   "cell_type": "markdown",
   "metadata": {
    "colab_type": "text",
    "id": "82Z5zVRXMAHt"
   },
   "source": [
    "Aunque la mayoría de las operaciones matemáticas operan con valores numéricos, una forma común de combinar cadenas de caracteres es usar el operador de suma +."
   ]
  },
  {
   "cell_type": "code",
   "execution_count": 0,
   "metadata": {
    "colab": {},
    "colab_type": "code",
    "id": "Py999zB0Mg8d"
   },
   "outputs": [],
   "source": [
    "nombreeid = nombre + \": \" + str(id)"
   ]
  },
  {
   "cell_type": "code",
   "execution_count": 0,
   "metadata": {
    "colab": {},
    "colab_type": "code",
    "id": "4zEMGQOaMjD7"
   },
   "outputs": [],
   "source": [
    "print(nombreeid)"
   ]
  },
  {
   "cell_type": "markdown",
   "metadata": {
    "colab_type": "text",
    "id": "UKXqNSD_K7fE"
   },
   "source": [
    "Tenga en cuenta que aquí estamos convirtiendo **id** una cadena de caracteres utilizando la **str()** función dentro de la asignación a la variable **nombreeid**. Alternativamente, podríamos haber añadido simplemente **nombre** y **idstr**."
   ]
  },
  {
   "cell_type": "code",
   "execution_count": 0,
   "metadata": {
    "colab": {},
    "colab_type": "code",
    "id": "7xV_XCaFAbqS"
   },
   "outputs": [],
   "source": []
  },
  {
   "cell_type": "code",
   "execution_count": 0,
   "metadata": {
    "colab": {},
    "colab_type": "code",
    "id": "D5S_P65GAbn7"
   },
   "outputs": [],
   "source": []
  },
  {
   "cell_type": "markdown",
   "metadata": {
    "colab_type": "text",
    "id": "RnLdv9k6gNEk"
   },
   "source": [
    "## Tips"
   ]
  },
  {
   "cell_type": "markdown",
   "metadata": {
    "colab_type": "text",
    "id": "62mpnnWwgSni"
   },
   "source": [
    "### Ayuda\n",
    "\n",
    "Tal vez ya sabes el nombre de una función, pero todavía tiene que averiguar cómo usarlo. \n",
    "\n",
    "Irónicamente, hay que pedir información sobre una función con otra función: **help()**. \n",
    "\n",
    "También se puede usar **?** antes del nombre de la función."
   ]
  },
  {
   "cell_type": "code",
   "execution_count": 0,
   "metadata": {
    "colab": {},
    "colab_type": "code",
    "id": "JVCW6VyqgOz0"
   },
   "outputs": [],
   "source": [
    "help(max)\n",
    "?max"
   ]
  }
 ],
 "metadata": {
  "colab": {
   "collapsed_sections": [],
   "include_colab_link": true,
   "name": "clase02_SintaxisPython.ipynb",
   "provenance": [],
   "toc_visible": true,
   "version": "0.3.2"
  },
  "kernelspec": {
   "display_name": "Python 3",
   "language": "python",
   "name": "python3"
  },
  "language_info": {
   "codemirror_mode": {
    "name": "ipython",
    "version": 3
   },
   "file_extension": ".py",
   "mimetype": "text/x-python",
   "name": "python",
   "nbconvert_exporter": "python",
   "pygments_lexer": "ipython3",
   "version": "3.6.7"
  }
 },
 "nbformat": 4,
 "nbformat_minor": 1
}
