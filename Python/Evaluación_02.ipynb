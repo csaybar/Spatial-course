{
 "cells": [
  {
   "cell_type": "markdown",
   "metadata": {
    "toc": true
   },
   "source": [
    "<h1>Table of Contents<span class=\"tocSkip\"></span></h1>\n",
    "<div class=\"toc\"><ul class=\"toc-item\"><li><span><a href=\"#Prueba-de-Operaciones-de-Comparacion-y--Statements\" data-toc-modified-id=\"Prueba-de-Operaciones-de-Comparacion-y--Statements-1\"><span class=\"toc-item-num\">1&nbsp;&nbsp;</span>Prueba de Operaciones de Comparacion y  Statements</a></span><ul class=\"toc-item\"><li><span><a href=\"#Pruebe-usted-mismo-si-aprendió-lo-basico-de-python3\" data-toc-modified-id=\"Pruebe-usted-mismo-si-aprendió-lo-basico-de-python3-1.1\"><span class=\"toc-item-num\">1.1&nbsp;&nbsp;</span>Pruebe usted mismo si aprendió lo basico de python3</a></span></li><li><span><a href=\"#Pregunta-1:\" data-toc-modified-id=\"Pregunta-1:-1.2\"><span class=\"toc-item-num\">1.2&nbsp;&nbsp;</span>Pregunta 1:</a></span></li><li><span><a href=\"#Pregunta-2:\" data-toc-modified-id=\"Pregunta-2:-1.3\"><span class=\"toc-item-num\">1.3&nbsp;&nbsp;</span>Pregunta 2:</a></span></li></ul></li></ul></div>"
   ]
  },
  {
   "cell_type": "markdown",
   "metadata": {},
   "source": [
    "## Prueba de Operaciones de Comparacion y  Statements\n",
    "### Pruebe usted mismo si aprendió lo basico de python3"
   ]
  },
  {
   "cell_type": "markdown",
   "metadata": {},
   "source": [
    "### Pregunta 1:\n",
    "¿Cuantos números por encima de 20 existen en la siguiente lista. Resuelvalo usando list _comprehension_ y _for_."
   ]
  },
  {
   "cell_type": "code",
   "execution_count": 3,
   "metadata": {},
   "outputs": [],
   "source": [
    "lst = [10,40,60,70,80]"
   ]
  },
  {
   "cell_type": "markdown",
   "metadata": {},
   "source": [
    "### Pregunta 2:\n",
    "Crear un programa que mencione si un número es positivo, negativo o cero."
   ]
  },
  {
   "cell_type": "code",
   "execution_count": 4,
   "metadata": {},
   "outputs": [],
   "source": [
    "#numeros a evaluar \n",
    "num = [0,-2,4,5,6]"
   ]
  },
  {
   "cell_type": "code",
   "execution_count": null,
   "metadata": {},
   "outputs": [],
   "source": []
  }
 ],
 "metadata": {
  "kernelspec": {
   "display_name": "Python 3",
   "language": "python",
   "name": "python3"
  },
  "toc": {
   "base_numbering": 1,
   "nav_menu": {},
   "number_sections": true,
   "sideBar": true,
   "skip_h1_title": true,
   "title_cell": "Table of Contents",
   "title_sidebar": "Contents",
   "toc_cell": true,
   "toc_position": {},
   "toc_section_display": true,
   "toc_window_display": true
  }
 },
 "nbformat": 4,
 "nbformat_minor": 2
}
