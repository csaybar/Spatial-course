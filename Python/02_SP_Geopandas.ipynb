{
 "cells": [
  {
   "cell_type": "markdown",
   "metadata": {
    "toc": true
   },
   "source": [
    "<h1>Table of Contents<span class=\"tocSkip\"></span></h1>\n",
    "<div class=\"toc\"><ul class=\"toc-item\"><li><span><a href=\"#Parte-01:\" data-toc-modified-id=\"Parte-01:-1\"><span class=\"toc-item-num\">1&nbsp;&nbsp;</span>Parte 01:</a></span><ul class=\"toc-item\"><li><span><a href=\"#Pregunta:\" data-toc-modified-id=\"Pregunta:-1.1\"><span class=\"toc-item-num\">1.1&nbsp;&nbsp;</span>Pregunta:</a></span></li><li><span><a href=\"#1.-Spatial-Encoding\" data-toc-modified-id=\"1.-Spatial-Encoding-1.2\"><span class=\"toc-item-num\">1.2&nbsp;&nbsp;</span>1. Spatial Encoding</a></span><ul class=\"toc-item\"><li><span><a href=\"#WKT\" data-toc-modified-id=\"WKT-1.2.1\"><span class=\"toc-item-num\">1.2.1&nbsp;&nbsp;</span>WKT</a></span></li><li><span><a href=\"#GeoJSON\" data-toc-modified-id=\"GeoJSON-1.2.2\"><span class=\"toc-item-num\">1.2.2&nbsp;&nbsp;</span>GeoJSON</a></span></li></ul></li><li><span><a href=\"#2.-Geopandas\" data-toc-modified-id=\"2.-Geopandas-1.3\"><span class=\"toc-item-num\">1.3&nbsp;&nbsp;</span>2. Geopandas</a></span><ul class=\"toc-item\"><li><span><a href=\"#2.1-Cargando-un-shapefile\" data-toc-modified-id=\"2.1-Cargando-un-shapefile-1.3.1\"><span class=\"toc-item-num\">1.3.1&nbsp;&nbsp;</span>2.1 Cargando un shapefile</a></span></li></ul></li></ul></li></ul></div>"
   ]
  },
  {
   "cell_type": "markdown",
   "metadata": {},
   "source": [
    "# Bienvenidos a Introducción a Spatial-Python3!!\n",
    "\n",
    "## Parte 01:\n",
    "\n",
    "En esta lectura, usted aprenderá lo esencial sobre como python maneja las codificaciones espaciales (spatial enconding), formatos y librerias.\n",
    "\n",
    "Veremos los siguientes tópicos:\n",
    "\n",
    "    1) Spatial Enconding\n",
    "    2) Geopandas"
   ]
  },
  {
   "cell_type": "markdown",
   "metadata": {},
   "source": [
    "###  Pregunta:\n",
    "¿Cuáles son las formas comunes de codificar datos geoespaciales vectoriales en Python, y cómo se relacionan con estándares de codificación más amplios?"
   ]
  },
  {
   "cell_type": "markdown",
   "metadata": {},
   "source": [
    "### 1. Spatial Encoding\n",
    "Existen distintos estándares para codificar la geometria en texto y en binarios. En este tutorial nos enfocaremos en:[*Well-Known Text (WTK)*](https://en.wikipedia.org/wiki/Well-known_text) y [*GeoJSON*](https://es.wikipedia.org/wiki/GeoJSON).\n",
    "\n",
    "#### WKT\n",
    "Las representaciones espaciales *WKT* son bastante intuitivas. Aquí hay algunos ejemplos de las entidades geométricas básicas que vimos anteriormente (donde las coordenadas se ordenan como X Y):\n",
    "\n",
    "      1) POINT(0 0)\n",
    "      2) LINESTRING(0 0, 1 1, 1 2)\n",
    "      3) POLYGON((0 0, 4 0, 4 4, 0 4, 0 0), (1 1, 2 1, 2 2, 1 2, 1 1))\n",
    "      4) MULTIPOINT((0 0), (1 2))\n",
    "\n",
    "#### GeoJSON\n",
    "GeoJSON surgió como una convención de la comunidad aprovechando la ubicuidad de la codificación JSON, especialmente en la web. Al ser JSON, pueden ser facilmente tratados en python (diccionarios).\n",
    "\n",
    "GeoJSON Ejemplo:"
   ]
  },
  {
   "cell_type": "code",
   "execution_count": 6,
   "metadata": {},
   "outputs": [
    {
     "data": {
      "text/plain": [
       "{'features': [{'geometry': {'coordinates': [102.0, 0.5], 'type': 'Point'},\n",
       "   'properties': {'prop0': 'value0', 'prop1': 0},\n",
       "   'type': 'Feature'},\n",
       "  {'geometry': {'coordinates': [-90.0, 10.5], 'type': 'Point'},\n",
       "   'properties': {'prop0': 'value3', 'prop1': 3},\n",
       "   'type': 'Feature'}],\n",
       " 'type': 'FeatureCollection'}"
      ]
     },
     "execution_count": 6,
     "metadata": {},
     "output_type": "execute_result"
    }
   ],
   "source": [
    "{\n",
    "  \"type\": \"FeatureCollection\",\n",
    "  \"features\": [\n",
    "    {\n",
    "      \"type\": \"Feature\",\n",
    "      \"geometry\": {\n",
    "        \"type\": \"Point\",\n",
    "        \"coordinates\": [102.0, 0.5]\n",
    "      },\n",
    "      \"properties\": {\n",
    "        \"prop0\": \"value0\",\n",
    "        \"prop1\": 0\n",
    "      }\n",
    "    },\n",
    "    {\n",
    "      \"type\": \"Feature\",\n",
    "      \"geometry\": {\n",
    "        \"type\": \"Point\",\n",
    "        \"coordinates\": [-90.0, 10.5]\n",
    "      },\n",
    "      \"properties\": {\n",
    "        \"prop0\": \"value3\",\n",
    "        \"prop1\": 3\n",
    "      }\n",
    "    }\n",
    "  ]\n",
    "}"
   ]
  },
  {
   "cell_type": "markdown",
   "metadata": {},
   "source": [
    "### 2. Geopandas\n",
    "[GeoPandas](http://geopandas.org/) agrega tipo de datos espaciales a toda la funcionalidades de [Pandas](https://pandas.pydata.org/) y habilita operaciones espaciales en estos tipos, mediante [shapely](https://pypi.org/project/Shapely/). **GeoPandas** aprovecha **Pandas** junto con varios paquetes y prácticas geoespaciales de código abierto para proporcionar un marco único y conveniente para manejar datos de características geoespaciales, operando en geometrías y atributos conjuntamente, y como con Pandas, eliminando en gran medida la necesidad de iterar sobre características (filas). También como con en Pandas, agrega un métodos para graficos y lectura/escritura de múltiples formatos de archivos."
   ]
  },
  {
   "cell_type": "markdown",
   "metadata": {},
   "source": [
    "#### 2.1 Cargando un shapefile"
   ]
  },
  {
   "cell_type": "code",
   "execution_count": 23,
   "metadata": {},
   "outputs": [
    {
     "name": "stdout",
     "output_type": "stream",
     "text": [
      "/home/aybarpc01/Documents/Python3-Trujillo/data\n",
      "/home/aybarpc01/Documents/Python3-Trujillo/data\n"
     ]
    },
    {
     "data": {
      "text/plain": [
       "<matplotlib.axes._subplots.AxesSubplot at 0x7efbee865fd0>"
      ]
     },
     "execution_count": 23,
     "metadata": {},
     "output_type": "execute_result"
    },
    {
     "data": {
      "image/png": "[encoded data removed]",
      "text/plain": [
       "<matplotlib.figure.Figure at 0x7efbee737d30>"
      ]
     },
     "metadata": {},
     "output_type": "display_data"
    }
   ],
   "source": [
    "import os\n",
    "import geopandas as gpd\n",
    "print(os.getcwd()) # ¿Cual es nuestro directorio?\n",
    "os.chdir('/home/aybarpc01/Documents/Python3-Trujillo/data/') # Cambia tu directorio de trabajo\n",
    "print(os.getcwd())\n",
    "\n",
    "ana_basin = '/home/aybarpc01/Documents/Python3-Trujillo/data/file_uh/UH.shp'\n",
    "ana_basin = gpd.read_file(ana_basin)\n",
    "ana_basin.plot()"
   ]
  }
 ],
 "metadata": {
  "kernelspec": {
   "display_name": "Python 3",
   "language": "python",
   "name": "python3"
  },
  "toc": {
   "base_numbering": 1,
   "nav_menu": {},
   "number_sections": true,
   "sideBar": true,
   "skip_h1_title": true,
   "title_cell": "Table of Contents",
   "title_sidebar": "Contents",
   "toc_cell": true,
   "toc_position": {},
   "toc_section_display": true,
   "toc_window_display": true
  }
 },
 "nbformat": 4,
 "nbformat_minor": 2
}
